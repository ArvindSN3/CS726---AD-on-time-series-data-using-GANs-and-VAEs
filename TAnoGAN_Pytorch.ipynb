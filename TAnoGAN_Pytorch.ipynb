{
 "cells": [
  {
   "cell_type": "markdown",
   "metadata": {},
   "source": [
    "## TAnoGAN: Time Series Anomaly Detection with Generative Adversarial Networks\n",
    "\n",
    "Published in: 2020 IEEE Symposium Series on Computational Intelligence (SSCI)\n",
    "\n",
    "Paper link: https://ieeexplore.ieee.org/abstract/document/9308512"
   ]
  },
  {
   "cell_type": "markdown",
   "metadata": {},
   "source": [
    "### Import required libraries"
   ]
  },
  {
   "cell_type": "code",
   "execution_count": 86,
   "metadata": {},
   "outputs": [],
   "source": [
    "import os\n",
    "import random\n",
    "import torch\n",
    "import torch.nn as nn\n",
    "import torch.backends.cudnn as cudnn\n",
    "import torch.optim as optim\n",
    "import torch.utils.data\n",
    "import torchvision\n",
    "import torch.nn.init as init\n",
    "from torch.autograd import Variable\n",
    "import datetime\n",
    "from nab_dataset import NabDataset\n",
    "from models.recurrent_models_pyramid import LSTMGenerator, LSTMDiscriminator"
   ]
  },
  {
   "cell_type": "code",
   "execution_count": 87,
   "metadata": {},
   "outputs": [],
   "source": [
    "# !pip3 install scikit-learn"
   ]
  },
  {
   "cell_type": "code",
   "execution_count": 88,
   "metadata": {},
   "outputs": [],
   "source": [
    "# !pip3 install pandas"
   ]
  },
  {
   "cell_type": "code",
   "execution_count": 89,
   "metadata": {},
   "outputs": [],
   "source": [
    "# !pip3 install torch torchvision torchaudio"
   ]
  },
  {
   "cell_type": "code",
   "execution_count": null,
   "metadata": {},
   "outputs": [],
   "source": []
  },
  {
   "cell_type": "markdown",
   "metadata": {},
   "source": [
    "#### Define Basic Settings for Adversarial Training"
   ]
  },
  {
   "cell_type": "code",
   "execution_count": 90,
   "metadata": {},
   "outputs": [],
   "source": [
    "class ArgsTrn:\n",
    "    workers=4\n",
    "    batch_size=128\n",
    "    epochs=100\n",
    "    lr=0.002 #original was 0.0002\n",
    "    cuda = True\n",
    "    manualSeed=6\n",
    "    \n",
    "opt_trn=ArgsTrn()"
   ]
  },
  {
   "cell_type": "code",
   "execution_count": 91,
   "metadata": {},
   "outputs": [],
   "source": [
    "torch.manual_seed(opt_trn.manualSeed)\n",
    "cudnn.benchmark = True"
   ]
  },
  {
   "cell_type": "markdown",
   "metadata": {},
   "source": [
    "### Setup Data Loader"
   ]
  },
  {
   "cell_type": "code",
   "execution_count": 92,
   "metadata": {},
   "outputs": [],
   "source": [
    "# location of datasets and category\n",
    "end_name = 'ambient_temperature_system_failure.csv' # dataset name\n",
    "data_file = 'data/realKnownCause/'+end_name # dataset category and dataset name\n",
    "key = 'realKnownCause/'+end_name # This key is used for reading anomaly labels"
   ]
  },
  {
   "cell_type": "code",
   "execution_count": 93,
   "metadata": {},
   "outputs": [],
   "source": [
    "# settings for data loader\n",
    "class DataSettings:\n",
    "    \n",
    "    def __init__(self):\n",
    "        self.BASE = '/users/extusr/kaustavprasad/Datasets/NAB/'\n",
    "        self.label_file = 'labels/combined_windows.json'\n",
    "        self.data_file = data_file\n",
    "        self.key = key\n",
    "        self.train = True\n",
    "        self.window_length = 60\n",
    "    \n",
    "    \n",
    "data_settings = DataSettings()"
   ]
  },
  {
   "cell_type": "code",
   "execution_count": 94,
   "metadata": {},
   "outputs": [
    {
     "data": {
      "text/plain": [
       "(torch.Size([7207, 60, 1]), torch.Size([7207]))"
      ]
     },
     "execution_count": 94,
     "metadata": {},
     "output_type": "execute_result"
    }
   ],
   "source": [
    "# define dataset object and data loader object for NAB dataset\n",
    "dataset = NabDataset(data_settings=data_settings)\n",
    "dataloader = torch.utils.data.DataLoader(dataset, batch_size=opt_trn.batch_size,\n",
    "                                         shuffle=True, num_workers=int(opt_trn.workers))\n",
    "\n",
    "dataset.x.shape, dataset.y.shape # check the dataset shape"
   ]
  },
  {
   "cell_type": "markdown",
   "metadata": {},
   "source": [
    "### Setup Models"
   ]
  },
  {
   "cell_type": "code",
   "execution_count": 95,
   "metadata": {},
   "outputs": [],
   "source": [
    "device = torch.device(\"cuda:0\" if opt_trn.cuda else \"cpu\") # select the device\n",
    "seq_len = dataset.window_length # sequence length is equal to the window length\n",
    "in_dim = dataset.n_feature # input dimension is same as number of feature"
   ]
  },
  {
   "cell_type": "code",
   "execution_count": 96,
   "metadata": {},
   "outputs": [],
   "source": [
    "# Create generator and discriminator models\n",
    "netD = LSTMDiscriminator(in_dim=in_dim, device=device).to(device)\n",
    "netG = LSTMGenerator(in_dim=in_dim, out_dim=in_dim, device=device).to(device)"
   ]
  },
  {
   "cell_type": "code",
   "execution_count": 97,
   "metadata": {},
   "outputs": [
    {
     "name": "stdout",
     "output_type": "stream",
     "text": [
      "|Discriminator Architecture|\n",
      " LSTMDiscriminator(\n",
      "  (lstm): LSTM(1, 100, batch_first=True)\n",
      "  (linear): Sequential(\n",
      "    (0): Linear(in_features=100, out_features=1, bias=True)\n",
      "    (1): Sigmoid()\n",
      "  )\n",
      ")\n",
      "|Generator Architecture|\n",
      " LSTMGenerator(\n",
      "  (lstm0): LSTM(1, 32, batch_first=True)\n",
      "  (lstm1): LSTM(32, 64, batch_first=True)\n",
      "  (lstm2): LSTM(64, 128, batch_first=True)\n",
      "  (linear): Sequential(\n",
      "    (0): Linear(in_features=128, out_features=1, bias=True)\n",
      "    (1): Tanh()\n",
      "  )\n",
      ")\n"
     ]
    }
   ],
   "source": [
    "print(\"|Discriminator Architecture|\\n\", netD)\n",
    "print(\"|Generator Architecture|\\n\", netG)"
   ]
  },
  {
   "cell_type": "code",
   "execution_count": 98,
   "metadata": {},
   "outputs": [],
   "source": [
    "# Setup loss function\n",
    "criterion = nn.BCELoss().to(device)"
   ]
  },
  {
   "cell_type": "code",
   "execution_count": 99,
   "metadata": {},
   "outputs": [],
   "source": [
    "# setup optimizer\n",
    "optimizerD = optim.Adam(netD.parameters(), lr=opt_trn.lr)\n",
    "optimizerG = optim.Adam(netG.parameters(), lr=opt_trn.lr)"
   ]
  },
  {
   "cell_type": "markdown",
   "metadata": {},
   "source": [
    "### Adversarial Training of Generator and Discriminator Models"
   ]
  },
  {
   "cell_type": "code",
   "execution_count": 159,
   "metadata": {},
   "outputs": [
    {
     "name": "stderr",
     "output_type": "stream",
     "text": [
      "/tmp/ipykernel_2012055/3003258673.py:24: UserWarning: nn.init.normal is now deprecated in favor of nn.init.normal_.\n",
      "  noise = Variable(init.normal(torch.Tensor(batch_size,seq_len,in_dim),mean=0,std=0.1)).cuda()\n",
      "/tmp/ipykernel_2012055/3003258673.py:38: UserWarning: nn.init.normal is now deprecated in favor of nn.init.normal_.\n",
      "  noise = Variable(init.normal(torch.Tensor(batch_size,seq_len,in_dim),mean=0,std=0.1)).cuda()\n"
     ]
    },
    {
     "name": "stdout",
     "output_type": "stream",
     "text": [
      "[0/100][56/57] Loss_D: 0.3426 Loss_G: 1.8994 D(x): 0.9041 D(G(z)): 0.1640 / 0.1721\n",
      "[1/100][56/57] Loss_D: 0.2094 Loss_G: 2.1091 D(x): 0.9663 D(G(z)): 0.1352 / 0.1290\n",
      "[2/100][56/57] Loss_D: 0.0809 Loss_G: 4.0161 D(x): 0.9740 D(G(z)): 0.0411 / 0.0409\n",
      "[3/100][56/57] Loss_D: 0.0580 Loss_G: 4.3331 D(x): 0.9903 D(G(z)): 0.0411 / 0.0377\n",
      "[4/100][56/57] Loss_D: 0.0506 Loss_G: 5.5124 D(x): 0.9850 D(G(z)): 0.0234 / 0.0234\n",
      "[5/100][56/57] Loss_D: 0.4259 Loss_G: 3.6052 D(x): 0.9026 D(G(z)): 0.1153 / 0.0896\n",
      "[6/100][56/57] Loss_D: 0.1350 Loss_G: 2.8216 D(x): 0.9607 D(G(z)): 0.0759 / 0.0738\n",
      "[7/100][56/57] Loss_D: 0.2441 Loss_G: 5.9854 D(x): 0.9385 D(G(z)): 0.0244 / 0.0259\n",
      "[8/100][56/57] Loss_D: 0.2168 Loss_G: 1.8853 D(x): 0.9745 D(G(z)): 0.1570 / 0.1544\n",
      "[9/100][56/57] Loss_D: 0.1068 Loss_G: 3.0284 D(x): 0.9704 D(G(z)): 0.0605 / 0.0600\n",
      "[10/100][56/57] Loss_D: 0.0976 Loss_G: 3.2570 D(x): 0.9709 D(G(z)): 0.0547 / 0.0524\n",
      "[11/100][56/57] Loss_D: 0.0707 Loss_G: 3.8474 D(x): 0.9872 D(G(z)): 0.0360 / 0.0358\n",
      "[12/100][56/57] Loss_D: 0.1168 Loss_G: 2.4937 D(x): 0.9858 D(G(z)): 0.0920 / 0.0896\n",
      "[13/100][56/57] Loss_D: 0.1300 Loss_G: 3.0364 D(x): 0.9733 D(G(z)): 0.0529 / 0.0541\n",
      "[14/100][56/57] Loss_D: 0.0541 Loss_G: 3.5534 D(x): 0.9900 D(G(z)): 0.0382 / 0.0376\n",
      "[15/100][56/57] Loss_D: 0.8235 Loss_G: 1.1383 D(x): 0.9961 D(G(z)): 0.5383 / 0.3284\n",
      "[16/100][56/57] Loss_D: 0.0844 Loss_G: 3.6822 D(x): 0.9781 D(G(z)): 0.0341 / 0.0346\n",
      "[17/100][56/57] Loss_D: 0.0293 Loss_G: 5.2043 D(x): 0.9920 D(G(z)): 0.0160 / 0.0161\n",
      "[18/100][56/57] Loss_D: 0.0312 Loss_G: 4.5105 D(x): 0.9942 D(G(z)): 0.0211 / 0.0211\n",
      "[19/100][56/57] Loss_D: 0.0298 Loss_G: 4.9998 D(x): 0.9936 D(G(z)): 0.0180 / 0.0181\n",
      "[20/100][56/57] Loss_D: 0.3706 Loss_G: 2.0732 D(x): 0.8964 D(G(z)): 0.1323 / 0.1341\n",
      "[21/100][56/57] Loss_D: 0.2368 Loss_G: 2.2590 D(x): 0.9344 D(G(z)): 0.1117 / 0.1125\n",
      "[22/100][56/57] Loss_D: 0.2404 Loss_G: 2.8087 D(x): 0.9400 D(G(z)): 0.0700 / 0.0698\n",
      "[23/100][56/57] Loss_D: 0.0917 Loss_G: 3.1200 D(x): 0.9814 D(G(z)): 0.0531 / 0.0529\n",
      "[24/100][56/57] Loss_D: 0.1476 Loss_G: 2.3660 D(x): 0.9778 D(G(z)): 0.1027 / 0.1007\n",
      "[25/100][56/57] Loss_D: 0.1066 Loss_G: 2.7534 D(x): 0.9816 D(G(z)): 0.0703 / 0.0699\n",
      "[26/100][56/57] Loss_D: 0.0874 Loss_G: 3.1568 D(x): 0.9800 D(G(z)): 0.0499 / 0.0496\n",
      "[27/100][56/57] Loss_D: 0.0663 Loss_G: 4.1836 D(x): 0.9760 D(G(z)): 0.0240 / 0.0234\n",
      "[28/100][56/57] Loss_D: 0.1013 Loss_G: 2.6630 D(x): 0.9832 D(G(z)): 0.0751 / 0.0741\n",
      "[29/100][56/57] Loss_D: 0.1611 Loss_G: 2.8361 D(x): 0.9604 D(G(z)): 0.0659 / 0.0656\n",
      "[30/100][56/57] Loss_D: 0.1479 Loss_G: 3.2978 D(x): 0.9662 D(G(z)): 0.0471 / 0.0468\n",
      "[31/100][56/57] Loss_D: 0.2104 Loss_G: 2.7998 D(x): 0.9482 D(G(z)): 0.0643 / 0.0661\n",
      "[32/100][56/57] Loss_D: 0.1583 Loss_G: 2.7784 D(x): 0.9565 D(G(z)): 0.0684 / 0.0685\n",
      "[33/100][56/57] Loss_D: 0.1791 Loss_G: 3.3742 D(x): 0.9499 D(G(z)): 0.0462 / 0.0463\n",
      "[34/100][56/57] Loss_D: 0.0422 Loss_G: 3.6588 D(x): 0.9971 D(G(z)): 0.0357 / 0.0354\n",
      "[35/100][56/57] Loss_D: 0.0430 Loss_G: 4.0350 D(x): 0.9913 D(G(z)): 0.0275 / 0.0274\n",
      "[36/100][56/57] Loss_D: 0.4665 Loss_G: 2.0264 D(x): 0.8527 D(G(z)): 0.1399 / 0.1540\n",
      "[37/100][56/57] Loss_D: 0.2470 Loss_G: 2.3854 D(x): 0.9253 D(G(z)): 0.0980 / 0.1010\n",
      "[38/100][56/57] Loss_D: 0.4412 Loss_G: 1.4494 D(x): 0.9061 D(G(z)): 0.2459 / 0.2381\n",
      "[39/100][56/57] Loss_D: 0.2384 Loss_G: 2.1848 D(x): 0.9284 D(G(z)): 0.1148 / 0.1197\n",
      "[40/100][56/57] Loss_D: 0.0622 Loss_G: 4.1004 D(x): 0.9786 D(G(z)): 0.0300 / 0.0271\n",
      "[41/100][56/57] Loss_D: 0.0631 Loss_G: 3.7602 D(x): 0.9821 D(G(z)): 0.0328 / 0.0326\n",
      "[42/100][56/57] Loss_D: 0.0414 Loss_G: 4.4857 D(x): 0.9897 D(G(z)): 0.0255 / 0.0248\n",
      "[43/100][56/57] Loss_D: 2.6477 Loss_G: 7.2566 D(x): 0.9663 D(G(z)): 0.7180 / 0.0079\n",
      "[44/100][56/57] Loss_D: 0.1680 Loss_G: 2.1961 D(x): 0.9756 D(G(z)): 0.1199 / 0.1170\n",
      "[45/100][56/57] Loss_D: 0.1173 Loss_G: 3.1892 D(x): 0.9628 D(G(z)): 0.0504 / 0.0518\n",
      "[46/100][56/57] Loss_D: 0.1415 Loss_G: 3.4803 D(x): 0.9568 D(G(z)): 0.0441 / 0.0423\n",
      "[47/100][56/57] Loss_D: 0.0341 Loss_G: 5.5497 D(x): 0.9940 D(G(z)): 0.0232 / 0.0230\n",
      "[48/100][56/57] Loss_D: 0.0407 Loss_G: 5.4468 D(x): 0.9889 D(G(z)): 0.0217 / 0.0217\n",
      "[49/100][56/57] Loss_D: 0.6237 Loss_G: 1.7156 D(x): 0.8724 D(G(z)): 0.2174 / 0.2367\n",
      "[50/100][56/57] Loss_D: 0.3663 Loss_G: 1.6205 D(x): 0.9307 D(G(z)): 0.2097 / 0.2063\n",
      "[51/100][56/57] Loss_D: 0.2112 Loss_G: 2.5570 D(x): 0.9562 D(G(z)): 0.1016 / 0.0993\n",
      "[52/100][56/57] Loss_D: 0.1470 Loss_G: 2.7766 D(x): 0.9698 D(G(z)): 0.0833 / 0.0855\n",
      "[53/100][56/57] Loss_D: 0.1172 Loss_G: 0.6469 D(x): 0.9808 D(G(z)): 0.0715 / 0.6815\n",
      "[54/100][56/57] Loss_D: 0.1545 Loss_G: 3.0139 D(x): 0.9667 D(G(z)): 0.0650 / 0.0639\n",
      "[55/100][56/57] Loss_D: 0.1413 Loss_G: 3.0367 D(x): 0.9632 D(G(z)): 0.0604 / 0.0621\n",
      "[56/100][56/57] Loss_D: 0.6100 Loss_G: 0.9840 D(x): 0.9005 D(G(z)): 0.3649 / 0.3753\n",
      "[57/100][56/57] Loss_D: 0.3828 Loss_G: 1.6667 D(x): 0.9027 D(G(z)): 0.1945 / 0.1940\n",
      "[58/100][56/57] Loss_D: 0.2762 Loss_G: 2.0639 D(x): 0.9298 D(G(z)): 0.1357 / 0.1338\n",
      "[59/100][56/57] Loss_D: 0.1392 Loss_G: 3.2651 D(x): 0.9678 D(G(z)): 0.0796 / 0.0673\n",
      "[60/100][56/57] Loss_D: 0.1078 Loss_G: 3.3324 D(x): 0.9698 D(G(z)): 0.0585 / 0.0544\n",
      "[61/100][56/57] Loss_D: 0.4293 Loss_G: 1.8077 D(x): 0.9067 D(G(z)): 0.1847 / 0.1780\n",
      "[62/100][56/57] Loss_D: 0.8317 Loss_G: 1.1284 D(x): 0.7542 D(G(z)): 0.3332 / 0.3310\n",
      "[63/100][56/57] Loss_D: 0.4136 Loss_G: 1.7740 D(x): 0.8675 D(G(z)): 0.1814 / 0.1773\n",
      "[64/100][56/57] Loss_D: 0.1893 Loss_G: 2.9779 D(x): 0.9441 D(G(z)): 0.0813 / 0.0802\n",
      "[65/100][56/57] Loss_D: 0.1420 Loss_G: 3.0981 D(x): 0.9701 D(G(z)): 0.0746 / 0.0738\n",
      "[66/100][56/57] Loss_D: 0.0968 Loss_G: 3.7502 D(x): 0.9806 D(G(z)): 0.0584 / 0.0514\n",
      "[67/100][56/57] Loss_D: 0.1133 Loss_G: 3.3882 D(x): 0.9679 D(G(z)): 0.0527 / 0.0544\n",
      "[68/100][56/57] Loss_D: 0.1035 Loss_G: 3.7942 D(x): 0.9723 D(G(z)): 0.0524 / 0.0514\n",
      "[69/100][56/57] Loss_D: 0.1209 Loss_G: 2.9713 D(x): 0.9726 D(G(z)): 0.0709 / 0.0709\n",
      "[70/100][56/57] Loss_D: 0.1165 Loss_G: 3.8488 D(x): 0.9682 D(G(z)): 0.0494 / 0.0499\n",
      "[71/100][56/57] Loss_D: 0.6135 Loss_G: 1.7622 D(x): 0.8707 D(G(z)): 0.2582 / 0.2378\n",
      "[72/100][56/57] Loss_D: 0.2972 Loss_G: 4.1525 D(x): 0.9033 D(G(z)): 0.0220 / 0.0233\n",
      "[73/100][56/57] Loss_D: 0.0610 Loss_G: 4.6612 D(x): 0.9870 D(G(z)): 0.0354 / 0.0353\n",
      "[74/100][56/57] Loss_D: 0.1061 Loss_G: 3.5806 D(x): 0.9731 D(G(z)): 0.0464 / 0.0448\n",
      "[75/100][56/57] Loss_D: 0.0679 Loss_G: 5.1186 D(x): 0.9807 D(G(z)): 0.0334 / 0.0312\n",
      "[76/100][56/57] Loss_D: 1.9288 Loss_G: 3.9808 D(x): 0.6430 D(G(z)): 0.0195 / 0.0272\n",
      "[77/100][56/57] Loss_D: 0.0725 Loss_G: 3.4129 D(x): 0.9894 D(G(z)): 0.0529 / 0.0521\n",
      "[78/100][56/57] Loss_D: 0.0777 Loss_G: 3.8046 D(x): 0.9805 D(G(z)): 0.0432 / 0.0433\n",
      "[79/100][56/57] Loss_D: 0.0584 Loss_G: 4.0941 D(x): 0.9886 D(G(z)): 0.0376 / 0.0374\n",
      "[80/100][56/57] Loss_D: 0.0604 Loss_G: 4.3155 D(x): 0.9836 D(G(z)): 0.0322 / 0.0320\n",
      "[81/100][56/57] Loss_D: 0.0474 Loss_G: 4.6087 D(x): 0.9891 D(G(z)): 0.0272 / 0.0270\n",
      "[82/100][56/57] Loss_D: 0.0448 Loss_G: 5.2438 D(x): 0.9875 D(G(z)): 0.0239 / 0.0237\n",
      "[83/100][56/57] Loss_D: 0.5691 Loss_G: 1.3453 D(x): 0.8516 D(G(z)): 0.2780 / 0.2722\n",
      "[84/100][56/57] Loss_D: 0.5749 Loss_G: 1.8215 D(x): 0.8045 D(G(z)): 0.1799 / 0.1852\n",
      "[85/100][56/57] Loss_D: 0.2081 Loss_G: 2.5161 D(x): 0.9573 D(G(z)): 0.1144 / 0.1098\n",
      "[86/100][56/57] Loss_D: 0.3164 Loss_G: 4.0485 D(x): 0.8914 D(G(z)): 0.0268 / 0.0293\n",
      "[87/100][56/57] Loss_D: 0.0997 Loss_G: 3.6591 D(x): 0.9748 D(G(z)): 0.0534 / 0.0521\n",
      "[88/100][56/57] Loss_D: 0.1067 Loss_G: 3.8395 D(x): 0.9690 D(G(z)): 0.0456 / 0.0459\n",
      "[89/100][56/57] Loss_D: 0.2970 Loss_G: 2.2187 D(x): 0.9459 D(G(z)): 0.1290 / 0.1202\n",
      "[90/100][56/57] Loss_D: 0.1075 Loss_G: 3.5594 D(x): 0.9830 D(G(z)): 0.0606 / 0.0572\n",
      "[91/100][56/57] Loss_D: 0.0599 Loss_G: 4.2935 D(x): 0.9853 D(G(z)): 0.0327 / 0.0328\n",
      "[92/100][56/57] Loss_D: 0.0577 Loss_G: 4.5622 D(x): 0.9867 D(G(z)): 0.0304 / 0.0288\n",
      "[93/100][56/57] Loss_D: 0.0584 Loss_G: 4.3581 D(x): 0.9863 D(G(z)): 0.0310 / 0.0308\n",
      "[94/100][56/57] Loss_D: 0.7284 Loss_G: 1.0980 D(x): 0.8849 D(G(z)): 0.3993 / 0.3857\n",
      "[95/100][56/57] Loss_D: 0.4783 Loss_G: 1.9398 D(x): 0.8630 D(G(z)): 0.1563 / 0.1570\n",
      "[96/100][56/57] Loss_D: 0.3783 Loss_G: 1.9750 D(x): 0.8930 D(G(z)): 0.1533 / 0.1521\n",
      "[97/100][56/57] Loss_D: 0.3382 Loss_G: 1.8948 D(x): 0.9058 D(G(z)): 0.1584 / 0.1575\n",
      "[98/100][56/57] Loss_D: 0.2539 Loss_G: 2.0906 D(x): 0.9419 D(G(z)): 0.1316 / 0.1301\n",
      "[99/100][56/57] Loss_D: 0.1567 Loss_G: 2.2592 D(x): 0.9807 D(G(z)): 0.1144 / 0.1125\n"
     ]
    }
   ],
   "source": [
    "real_label = 1\n",
    "fake_label = 0\n",
    "\n",
    "for epoch in range(opt_trn.epochs):\n",
    "    for i, (x,y) in enumerate(dataloader, 0):\n",
    "        \n",
    "        ############################\n",
    "        # (1) Update D network: maximize log(D(x)) + log(1 - D(G(z)))\n",
    "        ###########################\n",
    "\n",
    "        #Train with real data\n",
    "        netD.zero_grad()\n",
    "        real = x.to(device)\n",
    "        batch_size, seq_len = real.size(0), real.size(1)\n",
    "        label = torch.full((batch_size, seq_len, 1), real_label, device=device)\n",
    "\n",
    "        output,_ = netD.forward(real)\n",
    "        errD_real = criterion(output, label.float())\n",
    "        errD_real.backward()\n",
    "        optimizerD.step()\n",
    "        D_x = output.mean().item()\n",
    "        \n",
    "        #Train with fake data\n",
    "        noise = Variable(init.normal(torch.Tensor(batch_size,seq_len,in_dim),mean=0,std=0.1)).cuda()\n",
    "        fake,_ = netG.forward(noise)\n",
    "        output,_ = netD.forward(fake.detach()) # detach causes gradient is no longer being computed or stored to save memeory\n",
    "        label.fill_(fake_label)\n",
    "        errD_fake = criterion(output, label.float())\n",
    "        errD_fake.backward()\n",
    "        D_G_z1 = output.mean().item()\n",
    "        errD = errD_real + errD_fake\n",
    "        optimizerD.step()\n",
    "        \n",
    "        ############################\n",
    "        # (2) Update G network: maximize log(D(G(z)))\n",
    "        ###########################\n",
    "        netG.zero_grad()\n",
    "        noise = Variable(init.normal(torch.Tensor(batch_size,seq_len,in_dim),mean=0,std=0.1)).cuda()\n",
    "        fake,_ = netG.forward(noise)\n",
    "        label.fill_(real_label) \n",
    "        output,_ = netD.forward(fake)\n",
    "        errG = criterion(output, label.float())\n",
    "        errG.backward()\n",
    "        optimizerG.step()\n",
    "        D_G_z2 = output.mean().item()\n",
    "        \n",
    "        \n",
    "\n",
    "    print('[%d/%d][%d/%d] Loss_D: %.4f Loss_G: %.4f D(x): %.4f D(G(z)): %.4f / %.4f' \n",
    "          % (epoch, opt_trn.epochs, i, len(dataloader),\n",
    "             errD.item(), errG.item(), D_x, D_G_z1, D_G_z2), end='')\n",
    "    print()"
   ]
  },
  {
   "cell_type": "markdown",
   "metadata": {},
   "source": [
    "## Anomaly Detection"
   ]
  },
  {
   "cell_type": "markdown",
   "metadata": {},
   "source": [
    "#### Define basic settings for inverse mapping"
   ]
  },
  {
   "cell_type": "code",
   "execution_count": 160,
   "metadata": {},
   "outputs": [],
   "source": [
    "class ArgsTest:\n",
    "    workers = 1\n",
    "    batch_size = 1\n",
    "    \n",
    "opt_test=ArgsTest()    "
   ]
  },
  {
   "cell_type": "code",
   "execution_count": 161,
   "metadata": {},
   "outputs": [],
   "source": [
    "generator = netG # changing reference variable \n",
    "discriminator = netD # changing reference variable "
   ]
  },
  {
   "cell_type": "markdown",
   "metadata": {},
   "source": [
    "##### Define Test Data"
   ]
  },
  {
   "cell_type": "code",
   "execution_count": 162,
   "metadata": {},
   "outputs": [],
   "source": [
    "# Define settings for loading data in evaluation mood\n",
    "class TestDataSettings:\n",
    "    \n",
    "    def __init__(self):\n",
    "        self.BASE = '/users/extusr/kaustavprasad/Datasets/NAB/'\n",
    "        self.label_file = 'labels/combined_windows.json'\n",
    "        self.data_file = data_file\n",
    "        self.key = key\n",
    "        self.train = False\n",
    "\n",
    "        \n",
    "test_data_settings = TestDataSettings()\n"
   ]
  },
  {
   "cell_type": "code",
   "execution_count": 163,
   "metadata": {},
   "outputs": [
    {
     "data": {
      "text/plain": [
       "(torch.Size([121, 60, 1]), torch.Size([121]), 121)"
      ]
     },
     "execution_count": 163,
     "metadata": {},
     "output_type": "execute_result"
    }
   ],
   "source": [
    "# define dataset object and data loader object in evaluation mood for NAB dataset\n",
    "\n",
    "test_dataset = NabDataset(test_data_settings)\n",
    "test_dataloader = torch.utils.data.DataLoader(test_dataset, batch_size=opt_test.batch_size, \n",
    "                                         shuffle=False, num_workers=int(opt_test.workers))\n",
    "\n",
    "test_dataset.x.shape, test_dataset.y.shape, test_dataset.data_len # check the dataset shape"
   ]
  },
  {
   "cell_type": "markdown",
   "metadata": {},
   "source": [
    "#### Define a function to calculate anomaly score"
   ]
  },
  {
   "cell_type": "code",
   "execution_count": 164,
   "metadata": {},
   "outputs": [],
   "source": [
    "# Lambda = 0.1 according to paper\n",
    "# x is new data, G_z is closely regenerated data\n",
    "\n",
    "def Anomaly_score(x, G_z, Lambda=0.1):\n",
    "    residual_loss = torch.sum(torch.abs(x-G_z)) # Residual Loss\n",
    "    \n",
    "    # x_feature is a rich intermediate feature representation for real data x\n",
    "    output, x_feature = discriminator(x.to(device)) \n",
    "    # G_z_feature is a rich intermediate feature representation for fake data G(z)\n",
    "    output, G_z_feature = discriminator(G_z.to(device)) \n",
    "    \n",
    "    discrimination_loss = torch.sum(torch.abs(x_feature-G_z_feature)) # Discrimination loss\n",
    "    \n",
    "    total_loss = (1-Lambda)*residual_loss.to(device) + Lambda*discrimination_loss\n",
    "    return total_loss"
   ]
  },
  {
   "cell_type": "markdown",
   "metadata": {},
   "source": [
    "### Inverse mapping to latent space and reconstruction of data for estimating anomaly score"
   ]
  },
  {
   "cell_type": "code",
   "execution_count": 165,
   "metadata": {},
   "outputs": [
    {
     "name": "stdout",
     "output_type": "stream",
     "text": [
      "0 tensor([0.])\n"
     ]
    },
    {
     "name": "stderr",
     "output_type": "stream",
     "text": [
      "/tmp/ipykernel_2012055/3044706625.py:6: UserWarning: nn.init.normal is now deprecated in favor of nn.init.normal_.\n",
      "  z = Variable(init.normal(torch.zeros(opt_test.batch_size,\n"
     ]
    },
    {
     "name": "stdout",
     "output_type": "stream",
     "text": [
      "~~~~~~~~loss=524.9669799804688,  y=tensor([0.]) ~~~~~~~~~~\n",
      "1 tensor([0.])\n",
      "~~~~~~~~loss=52.124053955078125,  y=tensor([0.]) ~~~~~~~~~~\n",
      "2 tensor([0.])\n",
      "~~~~~~~~loss=261.32781982421875,  y=tensor([0.]) ~~~~~~~~~~\n",
      "3 tensor([0.])\n",
      "~~~~~~~~loss=527.499755859375,  y=tensor([0.]) ~~~~~~~~~~\n",
      "4 tensor([0.])\n",
      "~~~~~~~~loss=86.73622131347656,  y=tensor([0.]) ~~~~~~~~~~\n",
      "5 tensor([0.])\n",
      "~~~~~~~~loss=550.4974365234375,  y=tensor([0.]) ~~~~~~~~~~\n",
      "6 tensor([0.])\n",
      "~~~~~~~~loss=543.857421875,  y=tensor([0.]) ~~~~~~~~~~\n",
      "7 tensor([0.])\n",
      "~~~~~~~~loss=129.42453002929688,  y=tensor([0.]) ~~~~~~~~~~\n",
      "8 tensor([0.])\n",
      "~~~~~~~~loss=530.4697875976562,  y=tensor([0.]) ~~~~~~~~~~\n",
      "9 tensor([0.])\n",
      "~~~~~~~~loss=559.3092041015625,  y=tensor([0.]) ~~~~~~~~~~\n",
      "10 tensor([0.])\n",
      "~~~~~~~~loss=570.7946166992188,  y=tensor([0.]) ~~~~~~~~~~\n",
      "11 tensor([0.])\n",
      "~~~~~~~~loss=557.5036010742188,  y=tensor([0.]) ~~~~~~~~~~\n",
      "12 tensor([0.])\n",
      "~~~~~~~~loss=204.72210693359375,  y=tensor([0.]) ~~~~~~~~~~\n",
      "13 tensor([0.])\n",
      "~~~~~~~~loss=449.7977294921875,  y=tensor([0.]) ~~~~~~~~~~\n",
      "14 tensor([0.])\n",
      "~~~~~~~~loss=484.1475524902344,  y=tensor([0.]) ~~~~~~~~~~\n",
      "15 tensor([0.])\n",
      "~~~~~~~~loss=97.4525146484375,  y=tensor([0.]) ~~~~~~~~~~\n",
      "16 tensor([0.])\n",
      "~~~~~~~~loss=344.9662170410156,  y=tensor([0.]) ~~~~~~~~~~\n",
      "17 tensor([0.])\n",
      "~~~~~~~~loss=517.4703369140625,  y=tensor([0.]) ~~~~~~~~~~\n",
      "18 tensor([0.])\n",
      "~~~~~~~~loss=294.0557556152344,  y=tensor([0.]) ~~~~~~~~~~\n",
      "19 tensor([0.])\n",
      "~~~~~~~~loss=514.00634765625,  y=tensor([0.]) ~~~~~~~~~~\n",
      "20 tensor([0.])\n",
      "~~~~~~~~loss=38.76728439331055,  y=tensor([0.]) ~~~~~~~~~~\n",
      "21 tensor([0.])\n",
      "~~~~~~~~loss=465.89593505859375,  y=tensor([0.]) ~~~~~~~~~~\n",
      "22 tensor([0.])\n",
      "~~~~~~~~loss=217.95843505859375,  y=tensor([0.]) ~~~~~~~~~~\n",
      "23 tensor([0.])\n",
      "~~~~~~~~loss=506.5250549316406,  y=tensor([0.]) ~~~~~~~~~~\n",
      "24 tensor([0.])\n",
      "~~~~~~~~loss=541.898681640625,  y=tensor([0.]) ~~~~~~~~~~\n",
      "25 tensor([0.])\n",
      "~~~~~~~~loss=527.2117919921875,  y=tensor([0.]) ~~~~~~~~~~\n",
      "26 tensor([0.])\n",
      "~~~~~~~~loss=552.348388671875,  y=tensor([0.]) ~~~~~~~~~~\n",
      "27 tensor([0.])\n",
      "~~~~~~~~loss=268.166748046875,  y=tensor([0.]) ~~~~~~~~~~\n",
      "28 tensor([0.])\n",
      "~~~~~~~~loss=519.95361328125,  y=tensor([0.]) ~~~~~~~~~~\n",
      "29 tensor([0.])\n",
      "~~~~~~~~loss=565.177734375,  y=tensor([0.]) ~~~~~~~~~~\n",
      "30 tensor([0.])\n",
      "~~~~~~~~loss=613.5725708007812,  y=tensor([0.]) ~~~~~~~~~~\n",
      "31 tensor([0.])\n",
      "~~~~~~~~loss=600.1092529296875,  y=tensor([0.]) ~~~~~~~~~~\n",
      "32 tensor([0.])\n",
      "~~~~~~~~loss=597.3876342773438,  y=tensor([0.]) ~~~~~~~~~~\n",
      "33 tensor([0.])\n",
      "~~~~~~~~loss=571.3485717773438,  y=tensor([0.]) ~~~~~~~~~~\n",
      "34 tensor([0.])\n",
      "~~~~~~~~loss=566.07421875,  y=tensor([0.]) ~~~~~~~~~~\n",
      "35 tensor([0.])\n",
      "~~~~~~~~loss=555.9373779296875,  y=tensor([0.]) ~~~~~~~~~~\n",
      "36 tensor([0.])\n",
      "~~~~~~~~loss=548.94189453125,  y=tensor([0.]) ~~~~~~~~~~\n",
      "37 tensor([0.])\n",
      "~~~~~~~~loss=564.3262329101562,  y=tensor([0.]) ~~~~~~~~~~\n",
      "38 tensor([0.])\n",
      "~~~~~~~~loss=577.5499877929688,  y=tensor([0.]) ~~~~~~~~~~\n",
      "39 tensor([0.])\n",
      "~~~~~~~~loss=550.70654296875,  y=tensor([0.]) ~~~~~~~~~~\n",
      "40 tensor([0.])\n",
      "~~~~~~~~loss=576.652099609375,  y=tensor([0.]) ~~~~~~~~~~\n",
      "41 tensor([0.])\n",
      "~~~~~~~~loss=596.1895141601562,  y=tensor([0.]) ~~~~~~~~~~\n",
      "42 tensor([0.])\n",
      "~~~~~~~~loss=591.8404541015625,  y=tensor([0.]) ~~~~~~~~~~\n",
      "43 tensor([0.])\n",
      "~~~~~~~~loss=602.8028564453125,  y=tensor([0.]) ~~~~~~~~~~\n",
      "44 tensor([0.])\n",
      "~~~~~~~~loss=580.7325439453125,  y=tensor([0.]) ~~~~~~~~~~\n",
      "45 tensor([0.])\n",
      "~~~~~~~~loss=570.3173828125,  y=tensor([0.]) ~~~~~~~~~~\n",
      "46 tensor([0.])\n",
      "~~~~~~~~loss=577.583251953125,  y=tensor([0.]) ~~~~~~~~~~\n",
      "47 tensor([0.])\n",
      "~~~~~~~~loss=549.8179931640625,  y=tensor([0.]) ~~~~~~~~~~\n",
      "48 tensor([0.])\n",
      "~~~~~~~~loss=560.1173095703125,  y=tensor([0.]) ~~~~~~~~~~\n",
      "49 tensor([0.])\n",
      "~~~~~~~~loss=589.22998046875,  y=tensor([0.]) ~~~~~~~~~~\n",
      "50 tensor([0.])\n",
      "~~~~~~~~loss=584.557373046875,  y=tensor([0.]) ~~~~~~~~~~\n",
      "51 tensor([0.])\n",
      "~~~~~~~~loss=596.0068359375,  y=tensor([0.]) ~~~~~~~~~~\n",
      "52 tensor([0.])\n",
      "~~~~~~~~loss=618.5462646484375,  y=tensor([0.]) ~~~~~~~~~~\n",
      "53 tensor([0.])\n",
      "~~~~~~~~loss=606.7158203125,  y=tensor([0.]) ~~~~~~~~~~\n",
      "54 tensor([0.])\n",
      "~~~~~~~~loss=593.8549194335938,  y=tensor([0.]) ~~~~~~~~~~\n",
      "55 tensor([0.])\n",
      "~~~~~~~~loss=595.7711181640625,  y=tensor([0.]) ~~~~~~~~~~\n",
      "56 tensor([0.])\n",
      "~~~~~~~~loss=582.9854125976562,  y=tensor([0.]) ~~~~~~~~~~\n",
      "57 tensor([0.])\n",
      "~~~~~~~~loss=574.3720703125,  y=tensor([0.]) ~~~~~~~~~~\n",
      "58 tensor([0.])\n",
      "~~~~~~~~loss=597.2852783203125,  y=tensor([0.]) ~~~~~~~~~~\n",
      "59 tensor([1.])\n",
      "~~~~~~~~loss=613.6007080078125,  y=tensor([1.]) ~~~~~~~~~~\n",
      "60 tensor([1.])\n",
      "~~~~~~~~loss=600.696044921875,  y=tensor([1.]) ~~~~~~~~~~\n",
      "61 tensor([1.])\n",
      "~~~~~~~~loss=646.8154296875,  y=tensor([1.]) ~~~~~~~~~~\n",
      "62 tensor([1.])\n",
      "~~~~~~~~loss=665.5457763671875,  y=tensor([1.]) ~~~~~~~~~~\n",
      "63 tensor([1.])\n",
      "~~~~~~~~loss=613.77392578125,  y=tensor([1.]) ~~~~~~~~~~\n",
      "64 tensor([1.])\n",
      "~~~~~~~~loss=598.905517578125,  y=tensor([1.]) ~~~~~~~~~~\n",
      "65 tensor([1.])\n",
      "~~~~~~~~loss=612.5438842773438,  y=tensor([1.]) ~~~~~~~~~~\n",
      "66 tensor([0.])\n",
      "~~~~~~~~loss=597.7565307617188,  y=tensor([0.]) ~~~~~~~~~~\n",
      "67 tensor([0.])\n",
      "~~~~~~~~loss=577.865478515625,  y=tensor([0.]) ~~~~~~~~~~\n",
      "68 tensor([0.])\n",
      "~~~~~~~~loss=589.358642578125,  y=tensor([0.]) ~~~~~~~~~~\n",
      "69 tensor([0.])\n",
      "~~~~~~~~loss=585.7565307617188,  y=tensor([0.]) ~~~~~~~~~~\n",
      "70 tensor([0.])\n",
      "~~~~~~~~loss=624.784912109375,  y=tensor([0.]) ~~~~~~~~~~\n",
      "71 tensor([0.])\n",
      "~~~~~~~~loss=591.4498291015625,  y=tensor([0.]) ~~~~~~~~~~\n",
      "72 tensor([0.])\n",
      "~~~~~~~~loss=574.7705688476562,  y=tensor([0.]) ~~~~~~~~~~\n",
      "73 tensor([0.])\n",
      "~~~~~~~~loss=580.1210327148438,  y=tensor([0.]) ~~~~~~~~~~\n",
      "74 tensor([0.])\n",
      "~~~~~~~~loss=574.1756591796875,  y=tensor([0.]) ~~~~~~~~~~\n",
      "75 tensor([0.])\n",
      "~~~~~~~~loss=548.40478515625,  y=tensor([0.]) ~~~~~~~~~~\n",
      "76 tensor([0.])\n",
      "~~~~~~~~loss=549.6206665039062,  y=tensor([0.]) ~~~~~~~~~~\n",
      "77 tensor([0.])\n",
      "~~~~~~~~loss=528.0059814453125,  y=tensor([0.]) ~~~~~~~~~~\n",
      "78 tensor([0.])\n",
      "~~~~~~~~loss=544.0936889648438,  y=tensor([0.]) ~~~~~~~~~~\n",
      "79 tensor([0.])\n",
      "~~~~~~~~loss=556.2890014648438,  y=tensor([0.]) ~~~~~~~~~~\n",
      "80 tensor([0.])\n",
      "~~~~~~~~loss=563.4868774414062,  y=tensor([0.]) ~~~~~~~~~~\n",
      "81 tensor([0.])\n",
      "~~~~~~~~loss=540.759521484375,  y=tensor([0.]) ~~~~~~~~~~\n",
      "82 tensor([0.])\n",
      "~~~~~~~~loss=556.958984375,  y=tensor([0.]) ~~~~~~~~~~\n",
      "83 tensor([0.])\n",
      "~~~~~~~~loss=549.7210083007812,  y=tensor([0.]) ~~~~~~~~~~\n",
      "84 tensor([0.])\n",
      "~~~~~~~~loss=177.19534301757812,  y=tensor([0.]) ~~~~~~~~~~\n",
      "85 tensor([0.])\n",
      "~~~~~~~~loss=337.6877136230469,  y=tensor([0.]) ~~~~~~~~~~\n",
      "86 tensor([0.])\n",
      "~~~~~~~~loss=542.4906616210938,  y=tensor([0.]) ~~~~~~~~~~\n",
      "87 tensor([0.])\n",
      "~~~~~~~~loss=543.2412109375,  y=tensor([0.]) ~~~~~~~~~~\n",
      "88 tensor([0.])\n",
      "~~~~~~~~loss=557.1365966796875,  y=tensor([0.]) ~~~~~~~~~~\n",
      "89 tensor([0.])\n",
      "~~~~~~~~loss=519.0377197265625,  y=tensor([0.]) ~~~~~~~~~~\n",
      "90 tensor([0.])\n",
      "~~~~~~~~loss=383.3173828125,  y=tensor([0.]) ~~~~~~~~~~\n",
      "91 tensor([0.])\n",
      "~~~~~~~~loss=76.3680419921875,  y=tensor([0.]) ~~~~~~~~~~\n",
      "92 tensor([0.])\n",
      "~~~~~~~~loss=85.91146087646484,  y=tensor([0.]) ~~~~~~~~~~\n",
      "93 tensor([0.])\n",
      "~~~~~~~~loss=523.8235473632812,  y=tensor([0.]) ~~~~~~~~~~\n",
      "94 tensor([0.])\n",
      "~~~~~~~~loss=463.31109619140625,  y=tensor([0.]) ~~~~~~~~~~\n",
      "95 tensor([0.])\n",
      "~~~~~~~~loss=124.23771667480469,  y=tensor([0.]) ~~~~~~~~~~\n",
      "96 tensor([0.])\n",
      "~~~~~~~~loss=282.71588134765625,  y=tensor([0.]) ~~~~~~~~~~\n",
      "97 tensor([0.])\n",
      "~~~~~~~~loss=520.5382080078125,  y=tensor([0.]) ~~~~~~~~~~\n",
      "98 tensor([0.])\n",
      "~~~~~~~~loss=208.80140686035156,  y=tensor([0.]) ~~~~~~~~~~\n",
      "99 tensor([1.])\n",
      "~~~~~~~~loss=309.1496887207031,  y=tensor([1.]) ~~~~~~~~~~\n",
      "100 tensor([1.])\n",
      "~~~~~~~~loss=60.952659606933594,  y=tensor([1.]) ~~~~~~~~~~\n",
      "101 tensor([1.])\n",
      "~~~~~~~~loss=280.97930908203125,  y=tensor([1.]) ~~~~~~~~~~\n",
      "102 tensor([1.])\n",
      "~~~~~~~~loss=491.4862365722656,  y=tensor([1.]) ~~~~~~~~~~\n",
      "103 tensor([1.])\n",
      "~~~~~~~~loss=125.97549438476562,  y=tensor([1.]) ~~~~~~~~~~\n",
      "104 tensor([1.])\n",
      "~~~~~~~~loss=419.1007385253906,  y=tensor([1.]) ~~~~~~~~~~\n",
      "105 tensor([1.])\n",
      "~~~~~~~~loss=312.0111999511719,  y=tensor([1.]) ~~~~~~~~~~\n",
      "106 tensor([1.])\n",
      "~~~~~~~~loss=167.38259887695312,  y=tensor([1.]) ~~~~~~~~~~\n",
      "107 tensor([0.])\n",
      "~~~~~~~~loss=309.8265075683594,  y=tensor([0.]) ~~~~~~~~~~\n",
      "108 tensor([0.])\n",
      "~~~~~~~~loss=512.5213623046875,  y=tensor([0.]) ~~~~~~~~~~\n",
      "109 tensor([0.])\n",
      "~~~~~~~~loss=34.782745361328125,  y=tensor([0.]) ~~~~~~~~~~\n",
      "110 tensor([0.])\n",
      "~~~~~~~~loss=103.36693572998047,  y=tensor([0.]) ~~~~~~~~~~\n",
      "111 tensor([0.])\n",
      "~~~~~~~~loss=65.1568832397461,  y=tensor([0.]) ~~~~~~~~~~\n",
      "112 tensor([0.])\n",
      "~~~~~~~~loss=70.42950439453125,  y=tensor([0.]) ~~~~~~~~~~\n",
      "113 tensor([0.])\n",
      "~~~~~~~~loss=365.81304931640625,  y=tensor([0.]) ~~~~~~~~~~\n",
      "114 tensor([0.])\n",
      "~~~~~~~~loss=79.91654968261719,  y=tensor([0.]) ~~~~~~~~~~\n",
      "115 tensor([0.])\n",
      "~~~~~~~~loss=296.5693664550781,  y=tensor([0.]) ~~~~~~~~~~\n",
      "116 tensor([0.])\n",
      "~~~~~~~~loss=516.4873657226562,  y=tensor([0.]) ~~~~~~~~~~\n",
      "117 tensor([0.])\n",
      "~~~~~~~~loss=145.79745483398438,  y=tensor([0.]) ~~~~~~~~~~\n",
      "118 tensor([0.])\n",
      "~~~~~~~~loss=248.84017944335938,  y=tensor([0.]) ~~~~~~~~~~\n",
      "119 tensor([0.])\n",
      "~~~~~~~~loss=477.5078125,  y=tensor([0.]) ~~~~~~~~~~\n",
      "120 tensor([0.])\n",
      "~~~~~~~~loss=239.96319580078125,  y=tensor([0.]) ~~~~~~~~~~\n"
     ]
    }
   ],
   "source": [
    "loss_list = []\n",
    "#y_list = []\n",
    "for i, (x,y) in enumerate(test_dataloader):\n",
    "    print(i, y)\n",
    "    \n",
    "    z = Variable(init.normal(torch.zeros(opt_test.batch_size,\n",
    "                                     test_dataset.window_length, \n",
    "                                     test_dataset.n_feature),mean=0,std=0.1),requires_grad=True)\n",
    "    #z = x\n",
    "    z_optimizer = torch.optim.Adam([z],lr=1e-2)\n",
    "    \n",
    "    loss = None\n",
    "    for j in range(200): # set your interation range\n",
    "        gen_fake,_ = generator(z.cuda())\n",
    "        loss = Anomaly_score(Variable(x).cuda(), gen_fake)\n",
    "        loss.backward()\n",
    "        z_optimizer.step()\n",
    "\n",
    "    loss_list.append(loss) # Store the loss from the final iteration\n",
    "    #y_list.append(y) # Store the corresponding anomaly label\n",
    "    print('~~~~~~~~loss={},  y={} ~~~~~~~~~~'.format(loss, y))\n",
    "    #break"
   ]
  },
  {
   "cell_type": "markdown",
   "metadata": {},
   "source": [
    "### Visualise Anomaly Detection"
   ]
  },
  {
   "cell_type": "code",
   "execution_count": 166,
   "metadata": {},
   "outputs": [],
   "source": [
    "# !pip3 install matplotlib"
   ]
  },
  {
   "cell_type": "code",
   "execution_count": 174,
   "metadata": {},
   "outputs": [
    {
     "data": {
      "image/png": "[encoded data removed]",
      "text/plain": [
       "<Figure size 640x480 with 1 Axes>"
      ]
     },
     "metadata": {},
     "output_type": "display_data"
    }
   ],
   "source": [
    "import pandas as pd\n",
    "import matplotlib.pyplot as plt\n",
    "\n",
    "THRESHOLD = 10.0 # Anomaly score threshold for an instance to be considered as anomaly \n",
    "\n",
    "#TIME_STEPS = dataset.window_length\n",
    "test_score_df = pd.DataFrame(index=range(test_dataset.data_len))\n",
    "test_score_df['loss'] = [loss.item()/test_dataset.window_length for loss in loss_list]\n",
    "test_score_df['y'] = test_dataset.y\n",
    "test_score_df['threshold'] = THRESHOLD\n",
    "test_score_df['anomaly'] = test_score_df.loss > test_score_df.threshold\n",
    "test_score_df['t'] = [x[59].item() for x in test_dataset.x]\n",
    "\n",
    "plt.plot(test_score_df.index, test_score_df.loss, label='loss')\n",
    "plt.plot(test_score_df.index, test_score_df.threshold, label='threshold')\n",
    "plt.plot(test_score_df.index, test_score_df.y, label='y')\n",
    "plt.xticks(rotation=25)\n",
    "plt.legend();"
   ]
  },
  {
   "cell_type": "code",
   "execution_count": 175,
   "metadata": {},
   "outputs": [],
   "source": [
    "# !pip3 install seaborn"
   ]
  },
  {
   "cell_type": "code",
   "execution_count": 176,
   "metadata": {
    "scrolled": false
   },
   "outputs": [
    {
     "data": {
      "image/png": "[encoded data removed]",
      "text/plain": [
       "<Figure size 640x480 with 1 Axes>"
      ]
     },
     "metadata": {},
     "output_type": "display_data"
    }
   ],
   "source": [
    "import seaborn as sns\n",
    "\n",
    "anomalies = test_score_df[test_score_df.anomaly == True]\n",
    "\n",
    "plt.plot(\n",
    "  range(test_dataset.data_len), \n",
    "  test_score_df['t'], \n",
    "  label='value'\n",
    ");\n",
    "# ORIGINAL\n",
    "# sns.scatterplot(\n",
    "#   anomalies.index,\n",
    "#   anomalies.t,\n",
    "#   color=sns.color_palette()[3],\n",
    "#   s=52,\n",
    "#   label='anomaly'\n",
    "# )\n",
    "\n",
    "sns.scatterplot(\n",
    "  x=anomalies.index,\n",
    "  y=anomalies.t,\n",
    "  color=sns.color_palette()[3],\n",
    "  s=52,\n",
    "  label='anomaly'\n",
    ")\n",
    "\n",
    "plt.plot(\n",
    "  range(len(test_score_df['y'])),\n",
    "  test_score_df['y'],\n",
    "  label='y'\n",
    ")\n",
    "\n",
    "plt.xticks(rotation=25)\n",
    "plt.legend();"
   ]
  },
  {
   "cell_type": "markdown",
   "metadata": {},
   "source": [
    "### Calculate the window-based anomalies"
   ]
  },
  {
   "cell_type": "code",
   "execution_count": 177,
   "metadata": {},
   "outputs": [
    {
     "name": "stderr",
     "output_type": "stream",
     "text": [
      "/tmp/ipykernel_2012055/3208343193.py:16: FutureWarning: Setting an item of incompatible dtype is deprecated and will raise an error in a future version of pandas. Value '1' has dtype incompatible with bool, please explicitly cast to a compatible dtype first.\n",
      "  test_score_df.loc[i, 'anomaly'] = 1\n"
     ]
    }
   ],
   "source": [
    "import numpy as np\n",
    "start_end = []\n",
    "state = 0\n",
    "for idx in test_score_df.index:\n",
    "    if state==0 and test_score_df.loc[idx, 'y']==1:\n",
    "        state=1\n",
    "        start = idx\n",
    "    if state==1 and test_score_df.loc[idx, 'y']==0:\n",
    "        state = 0\n",
    "        end = idx\n",
    "        start_end.append((start, end))\n",
    "\n",
    "for s_e in start_end:\n",
    "    if sum(test_score_df[s_e[0]:s_e[1]+1]['anomaly'])>0:\n",
    "        for i in range(s_e[0], s_e[1]+1):\n",
    "            test_score_df.loc[i, 'anomaly'] = 1\n",
    "            \n",
    "actual = np.array(test_score_df['y'])\n",
    "predicted = np.array([int(a) for a in test_score_df['anomaly']])"
   ]
  },
  {
   "cell_type": "markdown",
   "metadata": {},
   "source": [
    "### Calculate measurement scores"
   ]
  },
  {
   "cell_type": "code",
   "execution_count": 178,
   "metadata": {},
   "outputs": [
    {
     "name": "stdout",
     "output_type": "stream",
     "text": [
      "True Positive\t 7\n",
      "True Negative\t 99\n",
      "False Positive\t 7\n",
      "False Negative\t 8\n",
      "Accuracy\t 0.8760330578439997\n",
      "Precision\t 0.49999999996428574\n",
      "Recall\t 0.46666666663555556\n",
      "f-measure\t 0.482758620156956\n",
      "cohen_kappa_score\t 0.4124312075105212\n",
      "auc\t 0.7003144654088052\n",
      "roc_auc\t 0.7003144654088052\n"
     ]
    }
   ],
   "source": [
    "import numpy as np\n",
    "from sklearn.metrics import cohen_kappa_score\n",
    "from sklearn.metrics import roc_curve, auc, roc_auc_score\n",
    "\n",
    "predicted = np.array(predicted)\n",
    "actual = np.array(actual)\n",
    "\n",
    "tp = np.count_nonzero(predicted * actual)\n",
    "tn = np.count_nonzero((predicted - 1) * (actual - 1))\n",
    "fp = np.count_nonzero(predicted * (actual - 1))\n",
    "fn = np.count_nonzero((predicted - 1) * actual)\n",
    "\n",
    "print('True Positive\\t', tp)\n",
    "print('True Negative\\t', tn)\n",
    "print('False Positive\\t', fp)\n",
    "print('False Negative\\t', fn)\n",
    "\n",
    "accuracy = (tp + tn) / (tp + fp + fn + tn + 1e-9)\n",
    "precision = tp / (tp + fp + 1e-9)\n",
    "recall = tp / (tp + fn + 1e-9)\n",
    "fmeasure = (2 * precision * recall) / (precision + recall + 1e-9)\n",
    "cohen_kappa_score = cohen_kappa_score(predicted, actual)\n",
    "false_positive_rate, true_positive_rate, thresholds = roc_curve(actual, predicted)\n",
    "auc_val = auc(false_positive_rate, true_positive_rate)\n",
    "roc_auc_val = roc_auc_score(actual, predicted)\n",
    "\n",
    "print('Accuracy\\t', accuracy)\n",
    "print('Precision\\t', precision)\n",
    "print('Recall\\t', recall)\n",
    "print('f-measure\\t', fmeasure)\n",
    "print('cohen_kappa_score\\t', cohen_kappa_score)\n",
    "print('auc\\t', auc_val)\n",
    "print('roc_auc\\t', roc_auc_val)"
   ]
  },
  {
   "cell_type": "code",
   "execution_count": 179,
   "metadata": {},
   "outputs": [
    {
     "data": {
      "text/plain": [
       "<sklearn.metrics._plot.confusion_matrix.ConfusionMatrixDisplay at 0x7fac17f28f50>"
      ]
     },
     "execution_count": 179,
     "metadata": {},
     "output_type": "execute_result"
    },
    {
     "data": {
      "image/png": "[encoded data removed]",
      "text/plain": [
       "<Figure size 640x480 with 2 Axes>"
      ]
     },
     "metadata": {},
     "output_type": "display_data"
    }
   ],
   "source": [
    "from sklearn.metrics import confusion_matrix, ConfusionMatrixDisplay\n",
    "\n",
    "matrix = confusion_matrix(actual, predicted)\n",
    "disp = ConfusionMatrixDisplay(matrix)\n",
    "disp.plot()"
   ]
  },
  {
   "cell_type": "code",
   "execution_count": 180,
   "metadata": {},
   "outputs": [],
   "source": [
    "# import winsound\n",
    "# frequency = 200  # Set Frequency To 2500 Hertz\n",
    "# duration = 2000  # Set Duration To 1000 ms == 1 second\n",
    "# winsound.Beep(frequency, duration)"
   ]
  },
  {
   "cell_type": "code",
   "execution_count": null,
   "metadata": {},
   "outputs": [],
   "source": []
  }
 ],
 "metadata": {
  "kernelspec": {
   "display_name": "Python 3",
   "language": "python",
   "name": "python3"
  },
  "language_info": {
   "codemirror_mode": {
    "name": "ipython",
    "version": 3
   },
   "file_extension": ".py",
   "mimetype": "text/x-python",
   "name": "python",
   "nbconvert_exporter": "python",
   "pygments_lexer": "ipython3",
   "version": "3.11.9"
  }
 },
 "nbformat": 4,
 "nbformat_minor": 4
}
