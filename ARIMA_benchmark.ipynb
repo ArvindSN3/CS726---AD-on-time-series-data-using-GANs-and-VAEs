{
 "cells": [
  {
   "cell_type": "markdown",
   "metadata": {},
   "source": [
    "## TAnoGAN: Time Series Anomaly Detection with Generative Adversarial Networks\n",
    "\n",
    "Published in: 2020 IEEE Symposium Series on Computational Intelligence (SSCI)\n",
    "\n",
    "Paper link: https://ieeexplore.ieee.org/abstract/document/9308512"
   ]
  },
  {
   "cell_type": "markdown",
   "metadata": {},
   "source": [
    "### Import required libraries"
   ]
  },
  {
   "cell_type": "code",
   "execution_count": 1,
   "metadata": {},
   "outputs": [],
   "source": [
    "import os\n",
    "import random\n",
    "import torch\n",
    "import torch.nn as nn\n",
    "import torch.backends.cudnn as cudnn\n",
    "import torch.optim as optim\n",
    "import torch.utils.data\n",
    "import torchvision\n",
    "import torch.nn.init as init\n",
    "from torch.autograd import Variable\n",
    "import datetime\n",
    "from nab_dataset import NabDataset\n",
    "from models.recurrent_models_pyramid import LSTMGenerator, LSTMDiscriminator"
   ]
  },
  {
   "cell_type": "code",
   "execution_count": 2,
   "metadata": {},
   "outputs": [],
   "source": [
    "# !pip3 install scikit-learn"
   ]
  },
  {
   "cell_type": "code",
   "execution_count": 3,
   "metadata": {},
   "outputs": [],
   "source": [
    "# !pip3 install pandas"
   ]
  },
  {
   "cell_type": "code",
   "execution_count": 4,
   "metadata": {},
   "outputs": [],
   "source": [
    "# !pip3 install torch torchvision torchaudio"
   ]
  },
  {
   "cell_type": "code",
   "execution_count": null,
   "metadata": {},
   "outputs": [],
   "source": []
  },
  {
   "cell_type": "markdown",
   "metadata": {},
   "source": [
    "#### Define Basic Settings for Adversarial Training"
   ]
  },
  {
   "cell_type": "code",
   "execution_count": 5,
   "metadata": {},
   "outputs": [],
   "source": [
    "class ArgsTrn:\n",
    "    workers=4\n",
    "    batch_size=128\n",
    "    epochs=100\n",
    "    lr=0.002 #original was 0.0002\n",
    "    cuda = True\n",
    "    manualSeed=6\n",
    "    \n",
    "opt_trn=ArgsTrn()"
   ]
  },
  {
   "cell_type": "code",
   "execution_count": 6,
   "metadata": {},
   "outputs": [],
   "source": [
    "torch.manual_seed(opt_trn.manualSeed)\n",
    "cudnn.benchmark = True"
   ]
  },
  {
   "cell_type": "markdown",
   "metadata": {},
   "source": [
    "### Setup Data Loader"
   ]
  },
  {
   "cell_type": "code",
   "execution_count": 7,
   "metadata": {},
   "outputs": [],
   "source": [
    "# location of datasets and category\n",
    "end_name = 'ambient_temperature_system_failure.csv' # dataset name\n",
    "data_file = 'data/realKnownCause/'+end_name # dataset category and dataset name\n",
    "key = 'realKnownCause/'+end_name # This key is used for reading anomaly labels"
   ]
  },
  {
   "cell_type": "code",
   "execution_count": 8,
   "metadata": {},
   "outputs": [],
   "source": [
    "# settings for data loader\n",
    "class DataSettings:\n",
    "    \n",
    "    def __init__(self):\n",
    "        self.BASE = '/users/extusr/kaustavprasad/Datasets/NAB/'\n",
    "        self.label_file = 'labels/combined_windows.json'\n",
    "        self.data_file = data_file\n",
    "        self.key = key\n",
    "        self.train = True\n",
    "        self.window_length = 60\n",
    "    \n",
    "    \n",
    "data_settings = DataSettings()"
   ]
  },
  {
   "cell_type": "code",
   "execution_count": 9,
   "metadata": {},
   "outputs": [
    {
     "data": {
      "text/plain": [
       "(torch.Size([7207, 60, 1]), torch.Size([7207]))"
      ]
     },
     "execution_count": 9,
     "metadata": {},
     "output_type": "execute_result"
    }
   ],
   "source": [
    "# define dataset object and data loader object for NAB dataset\n",
    "dataset = NabDataset(data_settings=data_settings)\n",
    "dataloader = torch.utils.data.DataLoader(dataset, batch_size=opt_trn.batch_size,\n",
    "                                         shuffle=True, num_workers=int(opt_trn.workers))\n",
    "\n",
    "dataset.x.shape, dataset.y.shape # check the dataset shape"
   ]
  },
  {
   "cell_type": "markdown",
   "metadata": {},
   "source": [
    "### Setup Models"
   ]
  },
  {
   "cell_type": "code",
   "execution_count": 10,
   "metadata": {},
   "outputs": [],
   "source": [
    "device = torch.device(\"cuda:0\" if opt_trn.cuda else \"cpu\") # select the device\n",
    "seq_len = dataset.window_length # sequence length is equal to the window length\n",
    "in_dim = dataset.n_feature # input dimension is same as number of feature"
   ]
  },
  {
   "cell_type": "code",
   "execution_count": 11,
   "metadata": {},
   "outputs": [],
   "source": [
    "# Create generator and discriminator models\n",
    "netD = LSTMDiscriminator(in_dim=in_dim, device=device).to(device)\n",
    "netG = LSTMGenerator(in_dim=in_dim, out_dim=in_dim, device=device).to(device)"
   ]
  },
  {
   "cell_type": "code",
   "execution_count": 12,
   "metadata": {},
   "outputs": [
    {
     "name": "stdout",
     "output_type": "stream",
     "text": [
      "|Discriminator Architecture|\n",
      " LSTMDiscriminator(\n",
      "  (lstm): LSTM(1, 100, batch_first=True)\n",
      "  (linear): Sequential(\n",
      "    (0): Linear(in_features=100, out_features=1, bias=True)\n",
      "    (1): Sigmoid()\n",
      "  )\n",
      ")\n",
      "|Generator Architecture|\n",
      " LSTMGenerator(\n",
      "  (lstm0): LSTM(1, 32, batch_first=True)\n",
      "  (lstm1): LSTM(32, 64, batch_first=True)\n",
      "  (lstm2): LSTM(64, 128, batch_first=True)\n",
      "  (linear): Sequential(\n",
      "    (0): Linear(in_features=128, out_features=1, bias=True)\n",
      "    (1): Tanh()\n",
      "  )\n",
      ")\n"
     ]
    }
   ],
   "source": [
    "print(\"|Discriminator Architecture|\\n\", netD)\n",
    "print(\"|Generator Architecture|\\n\", netG)"
   ]
  },
  {
   "cell_type": "code",
   "execution_count": 13,
   "metadata": {},
   "outputs": [],
   "source": [
    "# Setup loss function\n",
    "criterion = nn.BCELoss().to(device)"
   ]
  },
  {
   "cell_type": "code",
   "execution_count": 14,
   "metadata": {},
   "outputs": [],
   "source": [
    "# setup optimizer\n",
    "optimizerD = optim.Adam(netD.parameters(), lr=opt_trn.lr)\n",
    "optimizerG = optim.Adam(netG.parameters(), lr=opt_trn.lr)"
   ]
  },
  {
   "cell_type": "markdown",
   "id": "f7cceb34",
   "metadata": {},
   "source": [
    "\n",
    "## ARIMA Model for Anomaly Detection\n",
    "\n",
    "This section covers the implementation of the ARIMA model for anomaly detection, similar to the GAN-based approach. We will:\n",
    "1. Prepare the time series data.\n",
    "2. Fit an ARIMA model.\n",
    "3. Use the model's residuals to detect anomalies.\n"
   ]
  },
  {
   "cell_type": "code",
   "execution_count": 17,
   "metadata": {},
   "outputs": [],
   "source": [
    "# !pip install statsmodels"
   ]
  },
  {
   "cell_type": "code",
   "execution_count": 19,
   "id": "1b84434a",
   "metadata": {},
   "outputs": [
    {
     "name": "stdout",
     "output_type": "stream",
     "text": [
      "ADF Statistic: -5.517563\n",
      "p-value: 0.000002\n"
     ]
    }
   ],
   "source": [
    "\n",
    "# Importing necessary libraries for ARIMA\n",
    "import pandas as pd\n",
    "from statsmodels.tsa.stattools import adfuller\n",
    "from statsmodels.tsa.arima.model import ARIMA\n",
    "from statsmodels.graphics.tsaplots import plot_acf, plot_pacf\n",
    "import matplotlib.pyplot as plt\n",
    "\n",
    "# Loading the data\n",
    "data_path = data_settings.BASE + 'data/realKnownCause/ambient_temperature_system_failure.csv'\n",
    "data = pd.read_csv(data_path)\n",
    "temperature = data['value'].astype(float)\n",
    "\n",
    "# Checking stationarity\n",
    "result = adfuller(temperature.dropna())\n",
    "print('ADF Statistic: %f' % result[0])\n",
    "print('p-value: %f' % result[1])\n",
    "\n",
    "# If necessary, differencing the data to make it stationary\n",
    "if result[1] > 0.05:\n",
    "    temperature = temperature.diff().dropna()\n"
   ]
  },
  {
   "cell_type": "code",
   "execution_count": 20,
   "id": "a43a79e0",
   "metadata": {},
   "outputs": [
    {
     "data": {
      "image/png": "[encoded data removed]",
      "text/plain": [
       "<Figure size 1000x600 with 1 Axes>"
      ]
     },
     "metadata": {},
     "output_type": "display_data"
    },
    {
     "name": "stdout",
     "output_type": "stream",
     "text": [
      "Threshold for anomaly detection: 3.6388476658562383\n",
      "Detected anomalies: Index([0, 780, 781, 2115, 2116, 5883, 7070, 7116, 7237], dtype='int64')\n"
     ]
    }
   ],
   "source": [
    "\n",
    "# Fitting the ARIMA model\n",
    "model = ARIMA(temperature, order=(1,1,1))\n",
    "model_fit = model.fit()\n",
    "\n",
    "# Plotting residuals\n",
    "residuals = model_fit.resid\n",
    "plt.figure(figsize=(10,6))\n",
    "plt.plot(residuals)\n",
    "plt.title('Residuals from ARIMA Model')\n",
    "plt.show()\n",
    "\n",
    "# Anomaly detection based on residuals\n",
    "threshold = 3 * residuals.std()\n",
    "print('Threshold for anomaly detection:', threshold)\n",
    "anomalies = residuals[abs(residuals) > threshold]\n",
    "print('Detected anomalies:', anomalies.index)\n"
   ]
  },
  {
   "cell_type": "code",
   "execution_count": null,
   "metadata": {},
   "outputs": [],
   "source": []
  },
  {
   "cell_type": "markdown",
   "metadata": {},
   "source": [
    "### Adversarial Training of Generator and Discriminator Models"
   ]
  },
  {
   "cell_type": "code",
   "execution_count": 21,
   "metadata": {},
   "outputs": [
    {
     "name": "stderr",
     "output_type": "stream",
     "text": [
      "/tmp/ipykernel_2464807/3003258673.py:24: UserWarning: nn.init.normal is now deprecated in favor of nn.init.normal_.\n",
      "  noise = Variable(init.normal(torch.Tensor(batch_size,seq_len,in_dim),mean=0,std=0.1)).cuda()\n",
      "/tmp/ipykernel_2464807/3003258673.py:38: UserWarning: nn.init.normal is now deprecated in favor of nn.init.normal_.\n",
      "  noise = Variable(init.normal(torch.Tensor(batch_size,seq_len,in_dim),mean=0,std=0.1)).cuda()\n"
     ]
    },
    {
     "name": "stdout",
     "output_type": "stream",
     "text": [
      "[0/100][56/57] Loss_D: 1.3132 Loss_G: 0.3479 D(x): 0.9080 D(G(z)): 0.6899 / 0.7108\n",
      "[1/100][56/57] Loss_D: 0.9756 Loss_G: 0.8229 D(x): 0.7238 D(G(z)): 0.4400 / 0.4395\n",
      "[2/100][56/57] Loss_D: 0.6809 Loss_G: 0.8859 D(x): 0.8991 D(G(z)): 0.4146 / 0.4135\n",
      "[3/100][56/57] Loss_D: 0.8348 Loss_G: 0.7370 D(x): 0.8507 D(G(z)): 0.4787 / 0.4786\n",
      "[4/100][56/57] Loss_D: 0.9175 Loss_G: 0.8625 D(x): 0.7363 D(G(z)): 0.4213 / 0.4222\n",
      "[5/100][56/57] Loss_D: 0.2525 Loss_G: 2.2842 D(x): 0.9436 D(G(z)): 0.1337 / 0.1304\n",
      "[6/100][56/57] Loss_D: 0.9238 Loss_G: 0.8154 D(x): 0.7499 D(G(z)): 0.4440 / 0.4450\n",
      "[7/100][56/57] Loss_D: 0.9303 Loss_G: 0.8633 D(x): 0.7462 D(G(z)): 0.4397 / 0.4229\n",
      "[8/100][56/57] Loss_D: 1.1677 Loss_G: 0.7931 D(x): 0.6205 D(G(z)): 0.4437 / 0.4541\n",
      "[9/100][56/57] Loss_D: 0.8080 Loss_G: 0.8639 D(x): 0.8223 D(G(z)): 0.4243 / 0.4229\n",
      "[10/100][56/57] Loss_D: 1.0076 Loss_G: 0.6960 D(x): 0.7804 D(G(z)): 0.5018 / 0.4991\n",
      "[11/100][56/57] Loss_D: 1.1543 Loss_G: 0.7169 D(x): 0.6600 D(G(z)): 0.4882 / 0.4889\n",
      "[12/100][56/57] Loss_D: 0.9261 Loss_G: 0.7776 D(x): 0.7876 D(G(z)): 0.4629 / 0.4604\n",
      "[13/100][56/57] Loss_D: 1.0133 Loss_G: 0.7928 D(x): 0.7242 D(G(z)): 0.4543 / 0.4543\n",
      "[14/100][56/57] Loss_D: 2.4737 Loss_G: 0.1694 D(x): 0.7731 D(G(z)): 0.8638 / 0.8547\n",
      "[15/100][56/57] Loss_D: 0.9580 Loss_G: 0.7304 D(x): 0.7844 D(G(z)): 0.4829 / 0.4820\n",
      "[16/100][56/57] Loss_D: 1.0720 Loss_G: 0.7327 D(x): 0.7033 D(G(z)): 0.4805 / 0.4809\n",
      "[17/100][56/57] Loss_D: 0.9364 Loss_G: 0.8250 D(x): 0.7513 D(G(z)): 0.4421 / 0.4397\n",
      "[18/100][56/57] Loss_D: 1.0370 Loss_G: 0.6824 D(x): 0.7637 D(G(z)): 0.5099 / 0.5078\n",
      "[19/100][56/57] Loss_D: 0.6679 Loss_G: 1.1530 D(x): 0.8153 D(G(z)): 0.3201 / 0.3201\n",
      "[20/100][56/57] Loss_D: 1.0219 Loss_G: 0.9524 D(x): 0.6545 D(G(z)): 0.3871 / 0.3889\n",
      "[21/100][56/57] Loss_D: 3.9011 Loss_G: 0.1053 D(x): 0.9283 D(G(z)): 0.9202 / 0.9206\n",
      "[22/100][56/57] Loss_D: 1.4091 Loss_G: 0.4362 D(x): 0.7548 D(G(z)): 0.6608 / 0.6503\n",
      "[23/100][56/57] Loss_D: 1.1274 Loss_G: 0.6111 D(x): 0.7269 D(G(z)): 0.5456 / 0.5436\n",
      "[24/100][56/57] Loss_D: 0.8767 Loss_G: 0.9504 D(x): 0.7412 D(G(z)): 0.3952 / 0.3886\n",
      "[25/100][56/57] Loss_D: 0.6726 Loss_G: 1.1141 D(x): 0.8355 D(G(z)): 0.3428 / 0.3313\n",
      "[26/100][56/57] Loss_D: 0.8818 Loss_G: 1.2452 D(x): 0.6998 D(G(z)): 0.2915 / 0.2982\n",
      "[27/100][56/57] Loss_D: 3.6363 Loss_G: 0.0930 D(x): 0.8676 D(G(z)): 0.9316 / 0.9247\n",
      "[28/100][56/57] Loss_D: 0.6927 Loss_G: 1.0822 D(x): 0.8255 D(G(z)): 0.3478 / 0.3408\n",
      "[29/100][56/57] Loss_D: 0.8414 Loss_G: 0.7392 D(x): 0.8652 D(G(z)): 0.4788 / 0.4783\n",
      "[30/100][56/57] Loss_D: 1.5628 Loss_G: 0.3873 D(x): 0.7187 D(G(z)): 0.6850 / 0.6824\n",
      "[31/100][56/57] Loss_D: 1.4428 Loss_G: 0.4673 D(x): 0.6747 D(G(z)): 0.6347 / 0.6297\n",
      "[32/100][56/57] Loss_D: 1.3788 Loss_G: 0.4807 D(x): 0.6926 D(G(z)): 0.6245 / 0.6207\n",
      "[33/100][56/57] Loss_D: 0.6249 Loss_G: 1.0760 D(x): 0.8708 D(G(z)): 0.3581 / 0.3501\n",
      "[34/100][56/57] Loss_D: 0.3544 Loss_G: 1.7054 D(x): 0.9088 D(G(z)): 0.1973 / 0.1969\n",
      "[35/100][56/57] Loss_D: 0.9119 Loss_G: 0.7492 D(x): 0.8026 D(G(z)): 0.4757 / 0.4728\n",
      "[36/100][56/57] Loss_D: 0.6840 Loss_G: 1.3397 D(x): 0.7903 D(G(z)): 0.2665 / 0.2634\n",
      "[37/100][56/57] Loss_D: 0.5552 Loss_G: 1.4023 D(x): 0.8508 D(G(z)): 0.2484 / 0.2482\n",
      "[38/100][56/57] Loss_D: 0.5222 Loss_G: 1.4768 D(x): 0.8702 D(G(z)): 0.2348 / 0.2311\n",
      "[39/100][56/57] Loss_D: 1.0584 Loss_G: 0.6461 D(x): 0.7686 D(G(z)): 0.5276 / 0.5244\n",
      "[40/100][56/57] Loss_D: 1.0440 Loss_G: 0.6842 D(x): 0.7519 D(G(z)): 0.5067 / 0.5047\n",
      "[41/100][56/57] Loss_D: 0.9112 Loss_G: 0.7427 D(x): 0.8113 D(G(z)): 0.4780 / 0.4761\n",
      "[42/100][56/57] Loss_D: 0.9107 Loss_G: 0.7924 D(x): 0.7875 D(G(z)): 0.4540 / 0.4533\n",
      "[43/100][56/57] Loss_D: 0.8018 Loss_G: 0.9126 D(x): 0.8087 D(G(z)): 0.4043 / 0.4026\n",
      "[44/100][56/57] Loss_D: 0.5932 Loss_G: 1.0283 D(x): 0.9081 D(G(z)): 0.3611 / 0.3600\n",
      "[45/100][56/57] Loss_D: 0.5042 Loss_G: 1.5129 D(x): 0.8738 D(G(z)): 0.2265 / 0.2267\n",
      "[46/100][56/57] Loss_D: 0.3343 Loss_G: 1.7630 D(x): 0.9373 D(G(z)): 0.1809 / 0.1803\n",
      "[47/100][56/57] Loss_D: 1.1044 Loss_G: 0.7182 D(x): 0.6873 D(G(z)): 0.4880 / 0.4877\n",
      "[48/100][56/57] Loss_D: 1.0789 Loss_G: 0.7581 D(x): 0.6816 D(G(z)): 0.4678 / 0.4686\n",
      "[49/100][56/57] Loss_D: 1.0066 Loss_G: 0.7645 D(x): 0.7283 D(G(z)): 0.4663 / 0.4656\n",
      "[50/100][56/57] Loss_D: 0.8878 Loss_G: 0.8001 D(x): 0.7963 D(G(z)): 0.4504 / 0.4493\n",
      "[51/100][56/57] Loss_D: 0.7931 Loss_G: 0.8716 D(x): 0.8294 D(G(z)): 0.4195 / 0.4185\n",
      "[52/100][56/57] Loss_D: 0.8260 Loss_G: 0.9185 D(x): 0.7911 D(G(z)): 0.4009 / 0.3995\n",
      "[53/100][56/57] Loss_D: 0.7394 Loss_G: 1.0449 D(x): 0.8080 D(G(z)): 0.3545 / 0.3527\n",
      "[54/100][56/57] Loss_D: 0.4909 Loss_G: 1.3787 D(x): 0.8921 D(G(z)): 0.2559 / 0.2540\n",
      "[55/100][56/57] Loss_D: 0.4644 Loss_G: 1.5384 D(x): 0.8886 D(G(z)): 0.2188 / 0.2179\n",
      "[56/100][56/57] Loss_D: 0.8873 Loss_G: 0.8194 D(x): 0.7867 D(G(z)): 0.4387 / 0.4409\n",
      "[57/100][56/57] Loss_D: 0.8207 Loss_G: 0.9616 D(x): 0.7769 D(G(z)): 0.3829 / 0.3828\n",
      "[58/100][56/57] Loss_D: 0.4811 Loss_G: 1.3730 D(x): 0.9002 D(G(z)): 0.2579 / 0.2556\n",
      "[59/100][56/57] Loss_D: 0.5310 Loss_G: 1.3138 D(x): 0.8811 D(G(z)): 0.2722 / 0.2710\n",
      "[60/100][56/57] Loss_D: 0.3950 Loss_G: 1.5246 D(x): 0.9256 D(G(z)): 0.2228 / 0.2211\n",
      "[61/100][56/57] Loss_D: 0.6132 Loss_G: 1.6511 D(x): 0.8050 D(G(z)): 0.1973 / 0.1983\n",
      "[62/100][56/57] Loss_D: 0.3491 Loss_G: 1.9868 D(x): 0.9101 D(G(z)): 0.1562 / 0.1569\n",
      "[63/100][56/57] Loss_D: 0.7651 Loss_G: 0.9991 D(x): 0.8174 D(G(z)): 0.3773 / 0.3750\n",
      "[64/100][56/57] Loss_D: 0.3749 Loss_G: 1.5980 D(x): 0.9207 D(G(z)): 0.2156 / 0.2132\n",
      "[65/100][56/57] Loss_D: 0.2198 Loss_G: 2.5977 D(x): 0.9544 D(G(z)): 0.1143 / 0.1164\n",
      "[66/100][56/57] Loss_D: 0.2334 Loss_G: 2.1990 D(x): 0.9544 D(G(z)): 0.1447 / 0.1431\n",
      "[67/100][56/57] Loss_D: 0.1852 Loss_G: 2.7314 D(x): 0.9629 D(G(z)): 0.1098 / 0.1069\n",
      "[68/100][56/57] Loss_D: 0.3993 Loss_G: 1.4188 D(x): 0.9344 D(G(z)): 0.2552 / 0.2517\n",
      "[69/100][56/57] Loss_D: 0.3123 Loss_G: 1.8953 D(x): 0.9196 D(G(z)): 0.1671 / 0.1656\n",
      "[70/100][56/57] Loss_D: 0.2305 Loss_G: 2.5929 D(x): 0.9465 D(G(z)): 0.1322 / 0.1120\n",
      "[71/100][56/57] Loss_D: 0.1305 Loss_G: 3.4883 D(x): 0.9721 D(G(z)): 0.0795 / 0.0769\n",
      "[72/100][56/57] Loss_D: 0.2691 Loss_G: 2.0355 D(x): 0.9353 D(G(z)): 0.1502 / 0.1513\n",
      "[73/100][56/57] Loss_D: 0.1111 Loss_G: 3.1939 D(x): 0.9694 D(G(z)): 0.0619 / 0.0613\n",
      "[74/100][56/57] Loss_D: 0.1080 Loss_G: 3.7647 D(x): 0.9678 D(G(z)): 0.0453 / 0.0455\n",
      "[75/100][56/57] Loss_D: 0.0819 Loss_G: 3.9632 D(x): 0.9772 D(G(z)): 0.0456 / 0.0450\n",
      "[76/100][56/57] Loss_D: 0.0775 Loss_G: 4.3869 D(x): 0.9743 D(G(z)): 0.0373 / 0.0372\n",
      "[77/100][56/57] Loss_D: 0.9379 Loss_G: 1.1041 D(x): 0.7159 D(G(z)): 0.3502 / 0.3388\n",
      "[78/100][56/57] Loss_D: 0.7469 Loss_G: 1.0604 D(x): 0.8123 D(G(z)): 0.3585 / 0.3527\n",
      "[79/100][56/57] Loss_D: 1.4119 Loss_G: 0.9905 D(x): 0.8811 D(G(z)): 0.6796 / 0.3730\n",
      "[80/100][56/57] Loss_D: 0.6994 Loss_G: 1.0895 D(x): 0.8326 D(G(z)): 0.3434 / 0.3382\n",
      "[81/100][56/57] Loss_D: 0.7429 Loss_G: 1.1002 D(x): 0.7963 D(G(z)): 0.3309 / 0.3353\n",
      "[82/100][56/57] Loss_D: 0.7509 Loss_G: 1.0046 D(x): 0.8213 D(G(z)): 0.3713 / 0.3688\n",
      "[83/100][56/57] Loss_D: 0.6293 Loss_G: 1.1525 D(x): 0.8583 D(G(z)): 0.3210 / 0.3180\n",
      "[84/100][56/57] Loss_D: 0.5198 Loss_G: 2.0222 D(x): 0.8261 D(G(z)): 0.1260 / 0.1358\n",
      "[85/100][56/57] Loss_D: 0.5447 Loss_G: 1.6413 D(x): 0.8199 D(G(z)): 0.2084 / 0.2027\n",
      "[86/100][56/57] Loss_D: 0.6531 Loss_G: 1.1379 D(x): 0.8410 D(G(z)): 0.3213 / 0.3213\n",
      "[87/100][56/57] Loss_D: 0.4463 Loss_G: 1.2544 D(x): 0.9312 D(G(z)): 0.2916 / 0.2865\n",
      "[88/100][56/57] Loss_D: 0.1993 Loss_G: 2.3592 D(x): 0.9666 D(G(z)): 0.1222 / 0.1105\n",
      "[89/100][56/57] Loss_D: 1.0811 Loss_G: 0.7429 D(x): 0.7186 D(G(z)): 0.4848 / 0.4847\n",
      "[90/100][56/57] Loss_D: 0.9387 Loss_G: 0.8499 D(x): 0.7524 D(G(z)): 0.4360 / 0.4320\n",
      "[91/100][56/57] Loss_D: 0.8820 Loss_G: 0.9429 D(x): 0.7561 D(G(z)): 0.3955 / 0.3944\n",
      "[92/100][56/57] Loss_D: 0.6595 Loss_G: 1.1998 D(x): 0.8263 D(G(z)): 0.3188 / 0.3100\n",
      "[93/100][56/57] Loss_D: 0.4779 Loss_G: 1.4023 D(x): 0.8837 D(G(z)): 0.2622 / 0.2553\n",
      "[94/100][56/57] Loss_D: 0.4768 Loss_G: 1.4233 D(x): 0.8863 D(G(z)): 0.2584 / 0.2524\n",
      "[95/100][56/57] Loss_D: 0.4902 Loss_G: 1.3804 D(x): 0.8891 D(G(z)): 0.2656 / 0.2547\n",
      "[96/100][56/57] Loss_D: 0.3796 Loss_G: 1.5204 D(x): 0.9349 D(G(z)): 0.2394 / 0.2298\n",
      "[97/100][56/57] Loss_D: 0.7505 Loss_G: 3.7413 D(x): 0.7919 D(G(z)): 0.0261 / 0.0308\n",
      "[98/100][56/57] Loss_D: 0.7603 Loss_G: 0.9458 D(x): 0.8242 D(G(z)): 0.3934 / 0.3911\n",
      "[99/100][56/57] Loss_D: 0.6783 Loss_G: 1.0283 D(x): 0.8417 D(G(z)): 0.3640 / 0.3595\n"
     ]
    }
   ],
   "source": [
    "real_label = 1\n",
    "fake_label = 0\n",
    "\n",
    "for epoch in range(opt_trn.epochs):\n",
    "    for i, (x,y) in enumerate(dataloader, 0):\n",
    "        \n",
    "        ############################\n",
    "        # (1) Update D network: maximize log(D(x)) + log(1 - D(G(z)))\n",
    "        ###########################\n",
    "\n",
    "        #Train with real data\n",
    "        netD.zero_grad()\n",
    "        real = x.to(device)\n",
    "        batch_size, seq_len = real.size(0), real.size(1)\n",
    "        label = torch.full((batch_size, seq_len, 1), real_label, device=device)\n",
    "\n",
    "        output,_ = netD.forward(real)\n",
    "        errD_real = criterion(output, label.float())\n",
    "        errD_real.backward()\n",
    "        optimizerD.step()\n",
    "        D_x = output.mean().item()\n",
    "        \n",
    "        #Train with fake data\n",
    "        noise = Variable(init.normal(torch.Tensor(batch_size,seq_len,in_dim),mean=0,std=0.1)).cuda()\n",
    "        fake,_ = netG.forward(noise)\n",
    "        output,_ = netD.forward(fake.detach()) # detach causes gradient is no longer being computed or stored to save memeory\n",
    "        label.fill_(fake_label)\n",
    "        errD_fake = criterion(output, label.float())\n",
    "        errD_fake.backward()\n",
    "        D_G_z1 = output.mean().item()\n",
    "        errD = errD_real + errD_fake\n",
    "        optimizerD.step()\n",
    "        \n",
    "        ############################\n",
    "        # (2) Update G network: maximize log(D(G(z)))\n",
    "        ###########################\n",
    "        netG.zero_grad()\n",
    "        noise = Variable(init.normal(torch.Tensor(batch_size,seq_len,in_dim),mean=0,std=0.1)).cuda()\n",
    "        fake,_ = netG.forward(noise)\n",
    "        label.fill_(real_label) \n",
    "        output,_ = netD.forward(fake)\n",
    "        errG = criterion(output, label.float())\n",
    "        errG.backward()\n",
    "        optimizerG.step()\n",
    "        D_G_z2 = output.mean().item()\n",
    "        \n",
    "        \n",
    "\n",
    "    print('[%d/%d][%d/%d] Loss_D: %.4f Loss_G: %.4f D(x): %.4f D(G(z)): %.4f / %.4f' \n",
    "          % (epoch, opt_trn.epochs, i, len(dataloader),\n",
    "             errD.item(), errG.item(), D_x, D_G_z1, D_G_z2), end='')\n",
    "    print()"
   ]
  },
  {
   "cell_type": "markdown",
   "metadata": {},
   "source": [
    "## Anomaly Detection"
   ]
  },
  {
   "cell_type": "markdown",
   "metadata": {},
   "source": [
    "#### Define basic settings for inverse mapping"
   ]
  },
  {
   "cell_type": "code",
   "execution_count": 22,
   "metadata": {},
   "outputs": [],
   "source": [
    "class ArgsTest:\n",
    "    workers = 1\n",
    "    batch_size = 1\n",
    "    \n",
    "opt_test=ArgsTest()    "
   ]
  },
  {
   "cell_type": "code",
   "execution_count": 23,
   "metadata": {},
   "outputs": [],
   "source": [
    "generator = netG # changing reference variable \n",
    "discriminator = netD # changing reference variable "
   ]
  },
  {
   "cell_type": "markdown",
   "metadata": {},
   "source": [
    "##### Define Test Data"
   ]
  },
  {
   "cell_type": "code",
   "execution_count": 24,
   "metadata": {},
   "outputs": [],
   "source": [
    "# Define settings for loading data in evaluation mood\n",
    "class TestDataSettings:\n",
    "    \n",
    "    def __init__(self):\n",
    "        self.BASE = '/users/extusr/kaustavprasad/Datasets/NAB/'\n",
    "        self.label_file = 'labels/combined_windows.json'\n",
    "        self.data_file = data_file\n",
    "        self.key = key\n",
    "        self.train = False\n",
    "\n",
    "        \n",
    "test_data_settings = TestDataSettings()\n"
   ]
  },
  {
   "cell_type": "code",
   "execution_count": 25,
   "metadata": {},
   "outputs": [
    {
     "data": {
      "text/plain": [
       "(torch.Size([121, 60, 1]), torch.Size([121]), 121)"
      ]
     },
     "execution_count": 25,
     "metadata": {},
     "output_type": "execute_result"
    }
   ],
   "source": [
    "# define dataset object and data loader object in evaluation mood for NAB dataset\n",
    "\n",
    "test_dataset = NabDataset(test_data_settings)\n",
    "test_dataloader = torch.utils.data.DataLoader(test_dataset, batch_size=opt_test.batch_size, \n",
    "                                         shuffle=False, num_workers=int(opt_test.workers))\n",
    "\n",
    "test_dataset.x.shape, test_dataset.y.shape, test_dataset.data_len # check the dataset shape"
   ]
  },
  {
   "cell_type": "markdown",
   "metadata": {},
   "source": [
    "#### Define a function to calculate anomaly score"
   ]
  },
  {
   "cell_type": "code",
   "execution_count": 26,
   "metadata": {},
   "outputs": [],
   "source": [
    "# Lambda = 0.1 according to paper\n",
    "# x is new data, G_z is closely regenerated data\n",
    "\n",
    "def Anomaly_score(x, G_z, Lambda=0.1):\n",
    "    residual_loss = torch.sum(torch.abs(x-G_z)) # Residual Loss\n",
    "    \n",
    "    # x_feature is a rich intermediate feature representation for real data x\n",
    "    output, x_feature = discriminator(x.to(device)) \n",
    "    # G_z_feature is a rich intermediate feature representation for fake data G(z)\n",
    "    output, G_z_feature = discriminator(G_z.to(device)) \n",
    "    \n",
    "    discrimination_loss = torch.sum(torch.abs(x_feature-G_z_feature)) # Discrimination loss\n",
    "    \n",
    "    total_loss = (1-Lambda)*residual_loss.to(device) + Lambda*discrimination_loss\n",
    "    return total_loss"
   ]
  },
  {
   "cell_type": "markdown",
   "metadata": {},
   "source": [
    "### Inverse mapping to latent space and reconstruction of data for estimating anomaly score"
   ]
  },
  {
   "cell_type": "code",
   "execution_count": 27,
   "metadata": {},
   "outputs": [
    {
     "name": "stdout",
     "output_type": "stream",
     "text": [
      "0 tensor([0.])\n"
     ]
    },
    {
     "name": "stderr",
     "output_type": "stream",
     "text": [
      "/tmp/ipykernel_2464807/3365411315.py:6: UserWarning: nn.init.normal is now deprecated in favor of nn.init.normal_.\n",
      "  z = Variable(init.normal(torch.zeros(opt_test.batch_size,\n"
     ]
    },
    {
     "name": "stdout",
     "output_type": "stream",
     "text": [
      "~~~~~~~~loss=112.61831665039062,  y=tensor([0.]) ~~~~~~~~~~\n",
      "1 tensor([0.])\n",
      "~~~~~~~~loss=34.1494255065918,  y=tensor([0.]) ~~~~~~~~~~\n",
      "2 tensor([0.])\n",
      "~~~~~~~~loss=38.48020935058594,  y=tensor([0.]) ~~~~~~~~~~\n",
      "3 tensor([0.])\n",
      "~~~~~~~~loss=392.9874267578125,  y=tensor([0.]) ~~~~~~~~~~\n",
      "4 tensor([0.])\n",
      "~~~~~~~~loss=36.378082275390625,  y=tensor([0.]) ~~~~~~~~~~\n",
      "5 tensor([0.])\n",
      "~~~~~~~~loss=440.50006103515625,  y=tensor([0.]) ~~~~~~~~~~\n",
      "6 tensor([0.])\n",
      "~~~~~~~~loss=432.8793029785156,  y=tensor([0.]) ~~~~~~~~~~\n",
      "7 tensor([0.])\n",
      "~~~~~~~~loss=44.05691909790039,  y=tensor([0.]) ~~~~~~~~~~\n",
      "8 tensor([0.])\n",
      "~~~~~~~~loss=80.30516815185547,  y=tensor([0.]) ~~~~~~~~~~\n",
      "9 tensor([0.])\n",
      "~~~~~~~~loss=467.5834045410156,  y=tensor([0.]) ~~~~~~~~~~\n",
      "10 tensor([0.])\n",
      "~~~~~~~~loss=482.5965576171875,  y=tensor([0.]) ~~~~~~~~~~\n",
      "11 tensor([0.])\n",
      "~~~~~~~~loss=463.78955078125,  y=tensor([0.]) ~~~~~~~~~~\n",
      "12 tensor([0.])\n",
      "~~~~~~~~loss=45.06005859375,  y=tensor([0.]) ~~~~~~~~~~\n",
      "13 tensor([0.])\n",
      "~~~~~~~~loss=88.43672180175781,  y=tensor([0.]) ~~~~~~~~~~\n",
      "14 tensor([0.])\n",
      "~~~~~~~~loss=52.33450698852539,  y=tensor([0.]) ~~~~~~~~~~\n",
      "15 tensor([0.])\n",
      "~~~~~~~~loss=31.370052337646484,  y=tensor([0.]) ~~~~~~~~~~\n",
      "16 tensor([0.])\n",
      "~~~~~~~~loss=65.3411865234375,  y=tensor([0.]) ~~~~~~~~~~\n",
      "17 tensor([0.])\n",
      "~~~~~~~~loss=344.1614990234375,  y=tensor([0.]) ~~~~~~~~~~\n",
      "18 tensor([0.])\n",
      "~~~~~~~~loss=49.546592712402344,  y=tensor([0.]) ~~~~~~~~~~\n",
      "19 tensor([0.])\n",
      "~~~~~~~~loss=63.25627136230469,  y=tensor([0.]) ~~~~~~~~~~\n",
      "20 tensor([0.])\n",
      "~~~~~~~~loss=29.523889541625977,  y=tensor([0.]) ~~~~~~~~~~\n",
      "21 tensor([0.])\n",
      "~~~~~~~~loss=40.766937255859375,  y=tensor([0.]) ~~~~~~~~~~\n",
      "22 tensor([0.])\n",
      "~~~~~~~~loss=15.515273094177246,  y=tensor([0.]) ~~~~~~~~~~\n",
      "23 tensor([0.])\n",
      "~~~~~~~~loss=54.105316162109375,  y=tensor([0.]) ~~~~~~~~~~\n",
      "24 tensor([0.])\n",
      "~~~~~~~~loss=96.47081756591797,  y=tensor([0.]) ~~~~~~~~~~\n",
      "25 tensor([0.])\n",
      "~~~~~~~~loss=382.8487854003906,  y=tensor([0.]) ~~~~~~~~~~\n",
      "26 tensor([0.])\n",
      "~~~~~~~~loss=458.2209777832031,  y=tensor([0.]) ~~~~~~~~~~\n",
      "27 tensor([0.])\n",
      "~~~~~~~~loss=33.315670013427734,  y=tensor([0.]) ~~~~~~~~~~\n",
      "28 tensor([0.])\n",
      "~~~~~~~~loss=69.49908447265625,  y=tensor([0.]) ~~~~~~~~~~\n",
      "29 tensor([0.])\n",
      "~~~~~~~~loss=467.7256774902344,  y=tensor([0.]) ~~~~~~~~~~\n",
      "30 tensor([0.])\n",
      "~~~~~~~~loss=547.7296142578125,  y=tensor([0.]) ~~~~~~~~~~\n",
      "31 tensor([0.])\n",
      "~~~~~~~~loss=528.7378540039062,  y=tensor([0.]) ~~~~~~~~~~\n",
      "32 tensor([0.])\n",
      "~~~~~~~~loss=525.5382080078125,  y=tensor([0.]) ~~~~~~~~~~\n",
      "33 tensor([0.])\n",
      "~~~~~~~~loss=486.6670227050781,  y=tensor([0.]) ~~~~~~~~~~\n",
      "34 tensor([0.])\n",
      "~~~~~~~~loss=481.70562744140625,  y=tensor([0.]) ~~~~~~~~~~\n",
      "35 tensor([0.])\n",
      "~~~~~~~~loss=457.97747802734375,  y=tensor([0.]) ~~~~~~~~~~\n",
      "36 tensor([0.])\n",
      "~~~~~~~~loss=448.9111328125,  y=tensor([0.]) ~~~~~~~~~~\n",
      "37 tensor([0.])\n",
      "~~~~~~~~loss=471.38116455078125,  y=tensor([0.]) ~~~~~~~~~~\n",
      "38 tensor([0.])\n",
      "~~~~~~~~loss=497.7793884277344,  y=tensor([0.]) ~~~~~~~~~~\n",
      "39 tensor([0.])\n",
      "~~~~~~~~loss=451.2983703613281,  y=tensor([0.]) ~~~~~~~~~~\n",
      "40 tensor([0.])\n",
      "~~~~~~~~loss=494.0992736816406,  y=tensor([0.]) ~~~~~~~~~~\n",
      "41 tensor([0.])\n",
      "~~~~~~~~loss=523.03173828125,  y=tensor([0.]) ~~~~~~~~~~\n",
      "42 tensor([0.])\n",
      "~~~~~~~~loss=517.775634765625,  y=tensor([0.]) ~~~~~~~~~~\n",
      "43 tensor([0.])\n",
      "~~~~~~~~loss=531.9190673828125,  y=tensor([0.]) ~~~~~~~~~~\n",
      "44 tensor([0.])\n",
      "~~~~~~~~loss=500.09051513671875,  y=tensor([0.]) ~~~~~~~~~~\n",
      "45 tensor([0.])\n",
      "~~~~~~~~loss=485.09136962890625,  y=tensor([0.]) ~~~~~~~~~~\n",
      "46 tensor([0.])\n",
      "~~~~~~~~loss=498.5054931640625,  y=tensor([0.]) ~~~~~~~~~~\n",
      "47 tensor([0.])\n",
      "~~~~~~~~loss=452.6177062988281,  y=tensor([0.]) ~~~~~~~~~~\n",
      "48 tensor([0.])\n",
      "~~~~~~~~loss=458.906494140625,  y=tensor([0.]) ~~~~~~~~~~\n",
      "49 tensor([0.])\n",
      "~~~~~~~~loss=511.27789306640625,  y=tensor([0.]) ~~~~~~~~~~\n",
      "50 tensor([0.])\n",
      "~~~~~~~~loss=507.47161865234375,  y=tensor([0.]) ~~~~~~~~~~\n",
      "51 tensor([0.])\n",
      "~~~~~~~~loss=521.6448974609375,  y=tensor([0.]) ~~~~~~~~~~\n",
      "52 tensor([0.])\n",
      "~~~~~~~~loss=553.81396484375,  y=tensor([0.]) ~~~~~~~~~~\n",
      "53 tensor([0.])\n",
      "~~~~~~~~loss=538.2820434570312,  y=tensor([0.]) ~~~~~~~~~~\n",
      "54 tensor([0.])\n",
      "~~~~~~~~loss=519.6443481445312,  y=tensor([0.]) ~~~~~~~~~~\n",
      "55 tensor([0.])\n",
      "~~~~~~~~loss=522.6256103515625,  y=tensor([0.]) ~~~~~~~~~~\n",
      "56 tensor([0.])\n",
      "~~~~~~~~loss=503.0760192871094,  y=tensor([0.]) ~~~~~~~~~~\n",
      "57 tensor([0.])\n",
      "~~~~~~~~loss=489.8030090332031,  y=tensor([0.]) ~~~~~~~~~~\n",
      "58 tensor([0.])\n",
      "~~~~~~~~loss=524.7307739257812,  y=tensor([0.]) ~~~~~~~~~~\n",
      "59 tensor([1.])\n",
      "~~~~~~~~loss=547.7544555664062,  y=tensor([1.]) ~~~~~~~~~~\n",
      "60 tensor([1.])\n",
      "~~~~~~~~loss=529.2755126953125,  y=tensor([1.]) ~~~~~~~~~~\n",
      "61 tensor([1.])\n",
      "~~~~~~~~loss=586.9902954101562,  y=tensor([1.]) ~~~~~~~~~~\n",
      "62 tensor([1.])\n",
      "~~~~~~~~loss=614.3217163085938,  y=tensor([1.]) ~~~~~~~~~~\n",
      "63 tensor([1.])\n",
      "~~~~~~~~loss=548.6052856445312,  y=tensor([1.]) ~~~~~~~~~~\n",
      "64 tensor([1.])\n",
      "~~~~~~~~loss=527.2650146484375,  y=tensor([1.]) ~~~~~~~~~~\n",
      "65 tensor([1.])\n",
      "~~~~~~~~loss=545.773681640625,  y=tensor([1.]) ~~~~~~~~~~\n",
      "66 tensor([0.])\n",
      "~~~~~~~~loss=525.8428344726562,  y=tensor([0.]) ~~~~~~~~~~\n",
      "67 tensor([0.])\n",
      "~~~~~~~~loss=495.388427734375,  y=tensor([0.]) ~~~~~~~~~~\n",
      "68 tensor([0.])\n",
      "~~~~~~~~loss=513.8172607421875,  y=tensor([0.]) ~~~~~~~~~~\n",
      "69 tensor([0.])\n",
      "~~~~~~~~loss=507.3187561035156,  y=tensor([0.]) ~~~~~~~~~~\n",
      "70 tensor([0.])\n",
      "~~~~~~~~loss=562.4615478515625,  y=tensor([0.]) ~~~~~~~~~~\n",
      "71 tensor([0.])\n",
      "~~~~~~~~loss=515.740234375,  y=tensor([0.]) ~~~~~~~~~~\n",
      "72 tensor([0.])\n",
      "~~~~~~~~loss=494.0904846191406,  y=tensor([0.]) ~~~~~~~~~~\n",
      "73 tensor([0.])\n",
      "~~~~~~~~loss=497.93682861328125,  y=tensor([0.]) ~~~~~~~~~~\n",
      "74 tensor([0.])\n",
      "~~~~~~~~loss=492.7906494140625,  y=tensor([0.]) ~~~~~~~~~~\n",
      "75 tensor([0.])\n",
      "~~~~~~~~loss=449.99188232421875,  y=tensor([0.]) ~~~~~~~~~~\n",
      "76 tensor([0.])\n",
      "~~~~~~~~loss=450.7941589355469,  y=tensor([0.]) ~~~~~~~~~~\n",
      "77 tensor([0.])\n",
      "~~~~~~~~loss=78.70426177978516,  y=tensor([0.]) ~~~~~~~~~~\n",
      "78 tensor([0.])\n",
      "~~~~~~~~loss=438.6021728515625,  y=tensor([0.]) ~~~~~~~~~~\n",
      "79 tensor([0.])\n",
      "~~~~~~~~loss=188.228515625,  y=tensor([0.]) ~~~~~~~~~~\n",
      "80 tensor([0.])\n",
      "~~~~~~~~loss=473.1392822265625,  y=tensor([0.]) ~~~~~~~~~~\n",
      "81 tensor([0.])\n",
      "~~~~~~~~loss=428.9018249511719,  y=tensor([0.]) ~~~~~~~~~~\n",
      "82 tensor([0.])\n",
      "~~~~~~~~loss=466.06085205078125,  y=tensor([0.]) ~~~~~~~~~~\n",
      "83 tensor([0.])\n",
      "~~~~~~~~loss=445.1636657714844,  y=tensor([0.]) ~~~~~~~~~~\n",
      "84 tensor([0.])\n",
      "~~~~~~~~loss=31.570669174194336,  y=tensor([0.]) ~~~~~~~~~~\n",
      "85 tensor([0.])\n",
      "~~~~~~~~loss=58.508209228515625,  y=tensor([0.]) ~~~~~~~~~~\n",
      "86 tensor([0.])\n",
      "~~~~~~~~loss=437.2206726074219,  y=tensor([0.]) ~~~~~~~~~~\n",
      "87 tensor([0.])\n",
      "~~~~~~~~loss=94.24422454833984,  y=tensor([0.]) ~~~~~~~~~~\n",
      "88 tensor([0.])\n",
      "~~~~~~~~loss=464.7296142578125,  y=tensor([0.]) ~~~~~~~~~~\n",
      "89 tensor([0.])\n",
      "~~~~~~~~loss=345.0411376953125,  y=tensor([0.]) ~~~~~~~~~~\n",
      "90 tensor([0.])\n",
      "~~~~~~~~loss=39.3661994934082,  y=tensor([0.]) ~~~~~~~~~~\n",
      "91 tensor([0.])\n",
      "~~~~~~~~loss=25.004316329956055,  y=tensor([0.]) ~~~~~~~~~~\n",
      "92 tensor([0.])\n",
      "~~~~~~~~loss=50.2918701171875,  y=tensor([0.]) ~~~~~~~~~~\n",
      "93 tensor([0.])\n",
      "~~~~~~~~loss=381.4866027832031,  y=tensor([0.]) ~~~~~~~~~~\n",
      "94 tensor([0.])\n",
      "~~~~~~~~loss=38.72260665893555,  y=tensor([0.]) ~~~~~~~~~~\n",
      "95 tensor([0.])\n",
      "~~~~~~~~loss=68.21023559570312,  y=tensor([0.]) ~~~~~~~~~~\n",
      "96 tensor([0.])\n",
      "~~~~~~~~loss=40.51361846923828,  y=tensor([0.]) ~~~~~~~~~~\n",
      "97 tensor([0.])\n",
      "~~~~~~~~loss=296.02752685546875,  y=tensor([0.]) ~~~~~~~~~~\n",
      "98 tensor([0.])\n",
      "~~~~~~~~loss=59.96043395996094,  y=tensor([0.]) ~~~~~~~~~~\n",
      "99 tensor([1.])\n",
      "~~~~~~~~loss=36.67999267578125,  y=tensor([1.]) ~~~~~~~~~~\n",
      "100 tensor([1.])\n",
      "~~~~~~~~loss=33.580108642578125,  y=tensor([1.]) ~~~~~~~~~~\n",
      "101 tensor([1.])\n",
      "~~~~~~~~loss=53.53592300415039,  y=tensor([1.]) ~~~~~~~~~~\n",
      "102 tensor([1.])\n",
      "~~~~~~~~loss=56.91283416748047,  y=tensor([1.]) ~~~~~~~~~~\n",
      "103 tensor([1.])\n",
      "~~~~~~~~loss=152.37522888183594,  y=tensor([1.]) ~~~~~~~~~~\n",
      "104 tensor([1.])\n",
      "~~~~~~~~loss=38.62506866455078,  y=tensor([1.]) ~~~~~~~~~~\n",
      "105 tensor([1.])\n",
      "~~~~~~~~loss=50.162899017333984,  y=tensor([1.]) ~~~~~~~~~~\n",
      "106 tensor([1.])\n",
      "~~~~~~~~loss=96.6149673461914,  y=tensor([1.]) ~~~~~~~~~~\n",
      "107 tensor([0.])\n",
      "~~~~~~~~loss=37.26487350463867,  y=tensor([0.]) ~~~~~~~~~~\n",
      "108 tensor([0.])\n",
      "~~~~~~~~loss=258.83563232421875,  y=tensor([0.]) ~~~~~~~~~~\n",
      "109 tensor([0.])\n",
      "~~~~~~~~loss=27.690670013427734,  y=tensor([0.]) ~~~~~~~~~~\n",
      "110 tensor([0.])\n",
      "~~~~~~~~loss=22.480533599853516,  y=tensor([0.]) ~~~~~~~~~~\n",
      "111 tensor([0.])\n",
      "~~~~~~~~loss=68.88038635253906,  y=tensor([0.]) ~~~~~~~~~~\n",
      "112 tensor([0.])\n",
      "~~~~~~~~loss=36.046897888183594,  y=tensor([0.]) ~~~~~~~~~~\n",
      "113 tensor([0.])\n",
      "~~~~~~~~loss=38.65816879272461,  y=tensor([0.]) ~~~~~~~~~~\n",
      "114 tensor([0.])\n",
      "~~~~~~~~loss=50.169517517089844,  y=tensor([0.]) ~~~~~~~~~~\n",
      "115 tensor([0.])\n",
      "~~~~~~~~loss=34.29541778564453,  y=tensor([0.]) ~~~~~~~~~~\n",
      "116 tensor([0.])\n",
      "~~~~~~~~loss=72.57227325439453,  y=tensor([0.]) ~~~~~~~~~~\n",
      "117 tensor([0.])\n",
      "~~~~~~~~loss=165.81787109375,  y=tensor([0.]) ~~~~~~~~~~\n",
      "118 tensor([0.])\n",
      "~~~~~~~~loss=55.24729919433594,  y=tensor([0.]) ~~~~~~~~~~\n",
      "119 tensor([0.])\n",
      "~~~~~~~~loss=74.10830688476562,  y=tensor([0.]) ~~~~~~~~~~\n",
      "120 tensor([0.])\n",
      "~~~~~~~~loss=100.57586669921875,  y=tensor([0.]) ~~~~~~~~~~\n"
     ]
    }
   ],
   "source": [
    "loss_list = []\n",
    "#y_list = []\n",
    "for i, (x,y) in enumerate(test_dataloader):\n",
    "    print(i, y)\n",
    "    \n",
    "    z = Variable(init.normal(torch.zeros(opt_test.batch_size,\n",
    "                                     test_dataset.window_length, \n",
    "                                     test_dataset.n_feature),mean=0,std=0.1),requires_grad=True)\n",
    "    #z = x\n",
    "    z_optimizer = torch.optim.Adam([z],lr=1e-2)\n",
    "    \n",
    "    loss = None\n",
    "    for j in range(50): # set your interation range\n",
    "        gen_fake,_ = generator(z.cuda())\n",
    "        loss = Anomaly_score(Variable(x).cuda(), gen_fake)\n",
    "        loss.backward()\n",
    "        z_optimizer.step()\n",
    "\n",
    "    loss_list.append(loss) # Store the loss from the final iteration\n",
    "    #y_list.append(y) # Store the corresponding anomaly label\n",
    "    print('~~~~~~~~loss={},  y={} ~~~~~~~~~~'.format(loss, y))\n",
    "    #break"
   ]
  },
  {
   "cell_type": "markdown",
   "metadata": {},
   "source": [
    "### Visualise Anomaly Detection"
   ]
  },
  {
   "cell_type": "code",
   "execution_count": 28,
   "metadata": {},
   "outputs": [],
   "source": [
    "# !pip3 install matplotlib"
   ]
  },
  {
   "cell_type": "code",
   "execution_count": null,
   "metadata": {},
   "outputs": [],
   "source": []
  },
  {
   "cell_type": "code",
   "execution_count": 39,
   "metadata": {},
   "outputs": [
    {
     "data": {
      "text/plain": [
       "121"
      ]
     },
     "execution_count": 39,
     "metadata": {},
     "output_type": "execute_result"
    }
   ],
   "source": [
    "len(loss_list)"
   ]
  },
  {
   "cell_type": "code",
   "execution_count": 44,
   "metadata": {},
   "outputs": [
    {
     "data": {
      "image/png": "[encoded data removed]",
      "text/plain": [
       "<Figure size 640x480 with 1 Axes>"
      ]
     },
     "metadata": {},
     "output_type": "display_data"
    },
    {
     "data": {
      "image/png": "[encoded data removed]",
      "text/plain": [
       "<Figure size 640x480 with 1 Axes>"
      ]
     },
     "metadata": {},
     "output_type": "display_data"
    }
   ],
   "source": [
    "import pandas as pd\n",
    "import matplotlib.pyplot as plt\n",
    "\n",
    "THRESHOLD = 12.2 # Anomaly score threshold for an instance to be considered as anomaly \n",
    "\n",
    "#TIME_STEPS = dataset.window_length\n",
    "test_score_df = pd.DataFrame(index=range(test_dataset.data_len))\n",
    "test_score_df['loss'] = [loss.item()/test_dataset.window_length for loss in loss_list]\n",
    "test_score_df['y'] = test_dataset.y\n",
    "test_score_df['threshold'] = THRESHOLD\n",
    "test_score_df['anomaly'] = test_score_df.loss > test_score_df.threshold\n",
    "test_score_df['t'] = [x[59].item() for x in test_dataset.x]\n",
    "\n",
    "plt.plot(test_score_df.index, test_score_df.loss, label='loss')\n",
    "plt.plot(test_score_df.index, test_score_df.threshold, label='threshold')\n",
    "plt.plot(test_score_df.index, test_score_df.y, label='y')\n",
    "plt.xticks(rotation=25)\n",
    "plt.legend()\n",
    "plt.show()\n",
    "\n",
    "#Do the same for the ARIMA model fitted earlier\n",
    "arima_score_df = pd.DataFrame(index=range(len(temperature)))\n",
    "arima_score_df['residuals'] = residuals\n",
    "arima_score_df['threshold'] = threshold\n",
    "arima_score_df['anomaly'] = abs(arima_score_df.residuals) > threshold\n",
    "arima_score_df['t'] = temperature[1:]\n",
    "\n",
    "plt.plot(arima_score_df.index, arima_score_df.residuals, label='residuals')\n",
    "plt.plot(arima_score_df.index, arima_score_df.threshold, label='threshold')\n",
    "plt.plot(arima_score_df.index, arima_score_df.anomaly, label='anomaly')\n",
    "plt.xticks(rotation=25)\n",
    "plt.legend()\n",
    "plt.ylim(0, 10)\n",
    "# plt.yscale('log')\n",
    "plt.show()\n",
    "\n"
   ]
  },
  {
   "cell_type": "code",
   "execution_count": 42,
   "metadata": {},
   "outputs": [],
   "source": [
    "# !pip3 install seaborn"
   ]
  },
  {
   "cell_type": "code",
   "execution_count": 31,
   "metadata": {
    "scrolled": false
   },
   "outputs": [
    {
     "data": {
      "image/png": "[encoded data removed]",
      "text/plain": [
       "<Figure size 640x480 with 1 Axes>"
      ]
     },
     "metadata": {},
     "output_type": "display_data"
    }
   ],
   "source": [
    "import seaborn as sns\n",
    "\n",
    "anomalies = test_score_df[test_score_df.anomaly == True]\n",
    "\n",
    "plt.plot(\n",
    "  range(test_dataset.data_len), \n",
    "  test_score_df['t'], \n",
    "  label='value'\n",
    ");\n",
    "# ORIGINAL\n",
    "# sns.scatterplot(\n",
    "#   anomalies.index,\n",
    "#   anomalies.t,\n",
    "#   color=sns.color_palette()[3],\n",
    "#   s=52,\n",
    "#   label='anomaly'\n",
    "# )\n",
    "\n",
    "sns.scatterplot(\n",
    "  x=anomalies.index,\n",
    "  y=anomalies.t,\n",
    "  color=sns.color_palette()[3],\n",
    "  s=52,\n",
    "  label='anomaly'\n",
    ")\n",
    "\n",
    "plt.plot(\n",
    "  range(len(test_score_df['y'])),\n",
    "  test_score_df['y'],\n",
    "  label='y'\n",
    ")\n",
    "\n",
    "plt.xticks(rotation=25)\n",
    "plt.legend();"
   ]
  },
  {
   "cell_type": "markdown",
   "metadata": {},
   "source": [
    "### Calculate the window-based anomalies"
   ]
  },
  {
   "cell_type": "code",
   "execution_count": 32,
   "metadata": {},
   "outputs": [],
   "source": [
    "import numpy as np\n",
    "start_end = []\n",
    "state = 0\n",
    "for idx in test_score_df.index:\n",
    "    if state==0 and test_score_df.loc[idx, 'y']==1:\n",
    "        state=1\n",
    "        start = idx\n",
    "    if state==1 and test_score_df.loc[idx, 'y']==0:\n",
    "        state = 0\n",
    "        end = idx\n",
    "        start_end.append((start, end))\n",
    "\n",
    "for s_e in start_end:\n",
    "    if sum(test_score_df[s_e[0]:s_e[1]+1]['anomaly'])>0:\n",
    "        for i in range(s_e[0], s_e[1]+1):\n",
    "            test_score_df.loc[i, 'anomaly'] = 1\n",
    "            \n",
    "actual = np.array(test_score_df['y'])\n",
    "predicted = np.array([int(a) for a in test_score_df['anomaly']])"
   ]
  },
  {
   "cell_type": "markdown",
   "metadata": {},
   "source": [
    "### Calculate measurement scores"
   ]
  },
  {
   "cell_type": "code",
   "execution_count": 33,
   "metadata": {},
   "outputs": [
    {
     "name": "stdout",
     "output_type": "stream",
     "text": [
      "True Positive\t 0\n",
      "True Negative\t 106\n",
      "False Positive\t 0\n",
      "False Negative\t 15\n",
      "Accuracy\t 0.8760330578439997\n",
      "Precision\t 0.0\n",
      "Recall\t 0.0\n",
      "f-measure\t 0.0\n",
      "cohen_kappa_score\t 0.0\n",
      "auc\t 0.5\n",
      "roc_auc\t 0.5\n"
     ]
    }
   ],
   "source": [
    "import numpy as np\n",
    "from sklearn.metrics import cohen_kappa_score\n",
    "from sklearn.metrics import roc_curve, auc, roc_auc_score\n",
    "\n",
    "predicted = np.array(predicted)\n",
    "actual = np.array(actual)\n",
    "\n",
    "tp = np.count_nonzero(predicted * actual)\n",
    "tn = np.count_nonzero((predicted - 1) * (actual - 1))\n",
    "fp = np.count_nonzero(predicted * (actual - 1))\n",
    "fn = np.count_nonzero((predicted - 1) * actual)\n",
    "\n",
    "print('True Positive\\t', tp)\n",
    "print('True Negative\\t', tn)\n",
    "print('False Positive\\t', fp)\n",
    "print('False Negative\\t', fn)\n",
    "\n",
    "accuracy = (tp + tn) / (tp + fp + fn + tn + 1e-9)\n",
    "precision = tp / (tp + fp + 1e-9)\n",
    "recall = tp / (tp + fn + 1e-9)\n",
    "fmeasure = (2 * precision * recall) / (precision + recall + 1e-9)\n",
    "cohen_kappa_score = cohen_kappa_score(predicted, actual)\n",
    "false_positive_rate, true_positive_rate, thresholds = roc_curve(actual, predicted)\n",
    "auc_val = auc(false_positive_rate, true_positive_rate)\n",
    "roc_auc_val = roc_auc_score(actual, predicted)\n",
    "\n",
    "print('Accuracy\\t', accuracy)\n",
    "print('Precision\\t', precision)\n",
    "print('Recall\\t', recall)\n",
    "print('f-measure\\t', fmeasure)\n",
    "print('cohen_kappa_score\\t', cohen_kappa_score)\n",
    "print('auc\\t', auc_val)\n",
    "print('roc_auc\\t', roc_auc_val)\n",
    "\n",
    "#Compute the metrics for ARIMA\n",
    "\n",
    "print(\"ARIMA Model\")\n",
    "actual = np.array(arima_score_df['anomaly'])\n"
   ]
  },
  {
   "cell_type": "code",
   "execution_count": null,
   "metadata": {},
   "outputs": [],
   "source": [
    "\n",
    "\n"
   ]
  },
  {
   "cell_type": "code",
   "execution_count": 34,
   "metadata": {},
   "outputs": [],
   "source": [
    "# import winsound\n",
    "# frequency = 200  # Set Frequency To 2500 Hertz\n",
    "# duration = 2000  # Set Duration To 1000 ms == 1 second\n",
    "# winsound.Beep(frequency, duration)"
   ]
  }
 ],
 "metadata": {
  "kernelspec": {
   "display_name": "Python 3",
   "language": "python",
   "name": "python3"
  },
  "language_info": {
   "codemirror_mode": {
    "name": "ipython",
    "version": 3
   },
   "file_extension": ".py",
   "mimetype": "text/x-python",
   "name": "python",
   "nbconvert_exporter": "python",
   "pygments_lexer": "ipython3",
   "version": "3.11.9"
  }
 },
 "nbformat": 4,
 "nbformat_minor": 4
}
